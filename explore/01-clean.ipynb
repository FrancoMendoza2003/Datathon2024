{
 "cells": [
  {
   "cell_type": "code",
   "execution_count": null,
   "metadata": {},
   "outputs": [],
   "source": [
    "%%capture\n",
    "%load_ext autoreload\n",
    "%autoreload 2\n",
    "\n",
    "%pip install -r requirements.txt"
   ]
  },
  {
   "cell_type": "code",
   "execution_count": 1,
   "metadata": {},
   "outputs": [],
   "source": [
    "import pandas as pd"
   ]
  },
  {
   "cell_type": "markdown",
   "metadata": {},
   "source": [
    "## Vuelos"
   ]
  },
  {
   "cell_type": "code",
   "execution_count": 2,
   "metadata": {},
   "outputs": [
    {
     "data": {
      "text/html": [
       "<div>\n",
       "<style scoped>\n",
       "    .dataframe tbody tr th:only-of-type {\n",
       "        vertical-align: middle;\n",
       "    }\n",
       "\n",
       "    .dataframe tbody tr th {\n",
       "        vertical-align: top;\n",
       "    }\n",
       "\n",
       "    .dataframe thead th {\n",
       "        text-align: right;\n",
       "    }\n",
       "</style>\n",
       "<table border=\"1\" class=\"dataframe\">\n",
       "  <thead>\n",
       "    <tr style=\"text-align: right;\">\n",
       "      <th></th>\n",
       "      <th>Flight_ID</th>\n",
       "      <th>Aeronave</th>\n",
       "      <th>DepartureStation</th>\n",
       "      <th>ArrivalStation</th>\n",
       "      <th>Destination_Type</th>\n",
       "      <th>Origin_Type</th>\n",
       "      <th>STD</th>\n",
       "      <th>STA</th>\n",
       "      <th>Capacity</th>\n",
       "      <th>Passengers</th>\n",
       "      <th>Bookings</th>\n",
       "    </tr>\n",
       "  </thead>\n",
       "  <tbody>\n",
       "    <tr>\n",
       "      <th>0</th>\n",
       "      <td>ab954014077430bd842cfa305a55c0f8</td>\n",
       "      <td>XA-VBY</td>\n",
       "      <td>AT</td>\n",
       "      <td>AZ</td>\n",
       "      <td>Ciudad Fronteriza</td>\n",
       "      <td>Ciudad Principal</td>\n",
       "      <td>2023-10-19 11:40:00</td>\n",
       "      <td>2023-10-19 14:25:00</td>\n",
       "      <td>240</td>\n",
       "      <td>229.0</td>\n",
       "      <td>157.0</td>\n",
       "    </tr>\n",
       "    <tr>\n",
       "      <th>1</th>\n",
       "      <td>efd86c996035dacdca7a0ccb2560dda1</td>\n",
       "      <td>XA-VIX</td>\n",
       "      <td>BM</td>\n",
       "      <td>AV</td>\n",
       "      <td>MX Amigos y Familia</td>\n",
       "      <td>Ciudad Fronteriza</td>\n",
       "      <td>2023-07-03 00:55:00</td>\n",
       "      <td>2023-07-03 04:55:00</td>\n",
       "      <td>186</td>\n",
       "      <td>197.0</td>\n",
       "      <td>109.0</td>\n",
       "    </tr>\n",
       "    <tr>\n",
       "      <th>2</th>\n",
       "      <td>6cfa1bbaa44f08fc7d3061f034a6a5ce</td>\n",
       "      <td>XA-VBV</td>\n",
       "      <td>AW</td>\n",
       "      <td>AS</td>\n",
       "      <td>MX Amigos y Familia</td>\n",
       "      <td>Ciudad Principal</td>\n",
       "      <td>2024-02-16 17:10:00</td>\n",
       "      <td>2024-02-16 17:55:00</td>\n",
       "      <td>220</td>\n",
       "      <td>NaN</td>\n",
       "      <td>NaN</td>\n",
       "    </tr>\n",
       "    <tr>\n",
       "      <th>3</th>\n",
       "      <td>dd0fad3248951d2f71d63e6279aeaa4b</td>\n",
       "      <td>XA-VBW</td>\n",
       "      <td>AW</td>\n",
       "      <td>AS</td>\n",
       "      <td>MX Amigos y Familia</td>\n",
       "      <td>Ciudad Principal</td>\n",
       "      <td>2023-06-26 15:15:00</td>\n",
       "      <td>2023-06-26 15:55:00</td>\n",
       "      <td>220</td>\n",
       "      <td>200.0</td>\n",
       "      <td>142.0</td>\n",
       "    </tr>\n",
       "    <tr>\n",
       "      <th>4</th>\n",
       "      <td>d0987ee648eea254063bfe2b39571b67</td>\n",
       "      <td>XA-VAP</td>\n",
       "      <td>BA</td>\n",
       "      <td>AB</td>\n",
       "      <td>Playa</td>\n",
       "      <td>Ciudad Principal</td>\n",
       "      <td>2023-02-10 08:40:00</td>\n",
       "      <td>2023-02-10 09:50:00</td>\n",
       "      <td>186</td>\n",
       "      <td>162.0</td>\n",
       "      <td>90.0</td>\n",
       "    </tr>\n",
       "  </tbody>\n",
       "</table>\n",
       "</div>"
      ],
      "text/plain": [
       "                          Flight_ID Aeronave DepartureStation ArrivalStation  \\\n",
       "0  ab954014077430bd842cfa305a55c0f8   XA-VBY               AT             AZ   \n",
       "1  efd86c996035dacdca7a0ccb2560dda1   XA-VIX               BM             AV   \n",
       "2  6cfa1bbaa44f08fc7d3061f034a6a5ce   XA-VBV               AW             AS   \n",
       "3  dd0fad3248951d2f71d63e6279aeaa4b   XA-VBW               AW             AS   \n",
       "4  d0987ee648eea254063bfe2b39571b67   XA-VAP               BA             AB   \n",
       "\n",
       "      Destination_Type        Origin_Type                  STD  \\\n",
       "0    Ciudad Fronteriza   Ciudad Principal  2023-10-19 11:40:00   \n",
       "1  MX Amigos y Familia  Ciudad Fronteriza  2023-07-03 00:55:00   \n",
       "2  MX Amigos y Familia   Ciudad Principal  2024-02-16 17:10:00   \n",
       "3  MX Amigos y Familia   Ciudad Principal  2023-06-26 15:15:00   \n",
       "4                Playa   Ciudad Principal  2023-02-10 08:40:00   \n",
       "\n",
       "                   STA  Capacity  Passengers  Bookings  \n",
       "0  2023-10-19 14:25:00       240       229.0     157.0  \n",
       "1  2023-07-03 04:55:00       186       197.0     109.0  \n",
       "2  2024-02-16 17:55:00       220         NaN       NaN  \n",
       "3  2023-06-26 15:55:00       220       200.0     142.0  \n",
       "4  2023-02-10 09:50:00       186       162.0      90.0  "
      ]
     },
     "execution_count": 2,
     "metadata": {},
     "output_type": "execute_result"
    }
   ],
   "source": [
    "flights = pd.read_parquet(\"../resources/flights.parquet\")\n",
    "flights.head()"
   ]
  },
  {
   "cell_type": "code",
   "execution_count": 3,
   "metadata": {},
   "outputs": [
    {
     "data": {
      "text/plain": [
       "Flight_ID                0\n",
       "Aeronave             80390\n",
       "DepartureStation         1\n",
       "ArrivalStation           1\n",
       "Destination_Type         1\n",
       "Origin_Type              1\n",
       "STD                      0\n",
       "STA                      0\n",
       "Capacity                 0\n",
       "Passengers          123525\n",
       "Bookings            123525\n",
       "dtype: int64"
      ]
     },
     "execution_count": 3,
     "metadata": {},
     "output_type": "execute_result"
    }
   ],
   "source": [
    "# Registros nulos para cada campo\n",
    "flights.isna().sum()"
   ]
  },
  {
   "cell_type": "markdown",
   "metadata": {},
   "source": [
    "Se eliminan todos los casos donde `Aeropuerto` es nulo pues indica que el vuelo fue cancelado o cualquier otra situación que no es necesario considerar. Asimismo se eliminan 2 registro único donde los campos `DepartureStation`, `ArrivalStation`, `Destination_Type`, `Origin_Type` son nulos."
   ]
  },
  {
   "cell_type": "code",
   "execution_count": 4,
   "metadata": {},
   "outputs": [
    {
     "data": {
      "text/plain": [
       "Flight_ID           0\n",
       "Aeronave            0\n",
       "DepartureStation    0\n",
       "ArrivalStation      0\n",
       "Destination_Type    0\n",
       "Origin_Type         0\n",
       "STD                 0\n",
       "STA                 0\n",
       "Capacity            0\n",
       "Passengers          0\n",
       "Bookings            0\n",
       "dtype: int64"
      ]
     },
     "execution_count": 4,
     "metadata": {},
     "output_type": "execute_result"
    }
   ],
   "source": [
    "flights_ = flights.dropna(subset=[\"Aeronave\", \"Passengers\", \"Bookings\"])\n",
    "flights_ = flights_.dropna(subset=[\"DepartureStation\", \"ArrivalStation\"])\n",
    "flights_.isna().sum()"
   ]
  },
  {
   "cell_type": "markdown",
   "metadata": {},
   "source": [
    "Se crea una columna de `Semana` y `Mes` para análisis posteriores."
   ]
  },
  {
   "cell_type": "code",
   "execution_count": 11,
   "metadata": {},
   "outputs": [
    {
     "data": {
      "text/html": [
       "<div>\n",
       "<style scoped>\n",
       "    .dataframe tbody tr th:only-of-type {\n",
       "        vertical-align: middle;\n",
       "    }\n",
       "\n",
       "    .dataframe tbody tr th {\n",
       "        vertical-align: top;\n",
       "    }\n",
       "\n",
       "    .dataframe thead th {\n",
       "        text-align: right;\n",
       "    }\n",
       "</style>\n",
       "<table border=\"1\" class=\"dataframe\">\n",
       "  <thead>\n",
       "    <tr style=\"text-align: right;\">\n",
       "      <th></th>\n",
       "      <th>Flight_ID</th>\n",
       "      <th>Aeronave</th>\n",
       "      <th>DepartureStation</th>\n",
       "      <th>ArrivalStation</th>\n",
       "      <th>Destination_Type</th>\n",
       "      <th>Origin_Type</th>\n",
       "      <th>STD</th>\n",
       "      <th>STA</th>\n",
       "      <th>Capacity</th>\n",
       "      <th>Passengers</th>\n",
       "      <th>Bookings</th>\n",
       "      <th>Semana</th>\n",
       "      <th>Mes</th>\n",
       "      <th>DiaSemana</th>\n",
       "    </tr>\n",
       "  </thead>\n",
       "  <tbody>\n",
       "    <tr>\n",
       "      <th>0</th>\n",
       "      <td>ab954014077430bd842cfa305a55c0f8</td>\n",
       "      <td>XA-VBY</td>\n",
       "      <td>AT</td>\n",
       "      <td>AZ</td>\n",
       "      <td>Ciudad Fronteriza</td>\n",
       "      <td>Ciudad Principal</td>\n",
       "      <td>2023-10-19 11:40:00</td>\n",
       "      <td>2023-10-19 14:25:00</td>\n",
       "      <td>240</td>\n",
       "      <td>229.0</td>\n",
       "      <td>157.0</td>\n",
       "      <td>42</td>\n",
       "      <td>10</td>\n",
       "      <td>4</td>\n",
       "    </tr>\n",
       "    <tr>\n",
       "      <th>1</th>\n",
       "      <td>efd86c996035dacdca7a0ccb2560dda1</td>\n",
       "      <td>XA-VIX</td>\n",
       "      <td>BM</td>\n",
       "      <td>AV</td>\n",
       "      <td>MX Amigos y Familia</td>\n",
       "      <td>Ciudad Fronteriza</td>\n",
       "      <td>2023-07-03 00:55:00</td>\n",
       "      <td>2023-07-03 04:55:00</td>\n",
       "      <td>186</td>\n",
       "      <td>197.0</td>\n",
       "      <td>109.0</td>\n",
       "      <td>27</td>\n",
       "      <td>7</td>\n",
       "      <td>1</td>\n",
       "    </tr>\n",
       "    <tr>\n",
       "      <th>3</th>\n",
       "      <td>dd0fad3248951d2f71d63e6279aeaa4b</td>\n",
       "      <td>XA-VBW</td>\n",
       "      <td>AW</td>\n",
       "      <td>AS</td>\n",
       "      <td>MX Amigos y Familia</td>\n",
       "      <td>Ciudad Principal</td>\n",
       "      <td>2023-06-26 15:15:00</td>\n",
       "      <td>2023-06-26 15:55:00</td>\n",
       "      <td>220</td>\n",
       "      <td>200.0</td>\n",
       "      <td>142.0</td>\n",
       "      <td>26</td>\n",
       "      <td>6</td>\n",
       "      <td>1</td>\n",
       "    </tr>\n",
       "    <tr>\n",
       "      <th>4</th>\n",
       "      <td>d0987ee648eea254063bfe2b39571b67</td>\n",
       "      <td>XA-VAP</td>\n",
       "      <td>BA</td>\n",
       "      <td>AB</td>\n",
       "      <td>Playa</td>\n",
       "      <td>Ciudad Principal</td>\n",
       "      <td>2023-02-10 08:40:00</td>\n",
       "      <td>2023-02-10 09:50:00</td>\n",
       "      <td>186</td>\n",
       "      <td>162.0</td>\n",
       "      <td>90.0</td>\n",
       "      <td>6</td>\n",
       "      <td>2</td>\n",
       "      <td>5</td>\n",
       "    </tr>\n",
       "    <tr>\n",
       "      <th>5</th>\n",
       "      <td>3b5df8805161ea827d2f2e4298c38e06</td>\n",
       "      <td>XA-VBY</td>\n",
       "      <td>AJ</td>\n",
       "      <td>AR</td>\n",
       "      <td>Playa</td>\n",
       "      <td>MX Amigos y Familia</td>\n",
       "      <td>2023-09-07 17:10:00</td>\n",
       "      <td>2023-09-07 18:05:00</td>\n",
       "      <td>240</td>\n",
       "      <td>183.0</td>\n",
       "      <td>125.0</td>\n",
       "      <td>36</td>\n",
       "      <td>9</td>\n",
       "      <td>4</td>\n",
       "    </tr>\n",
       "    <tr>\n",
       "      <th>...</th>\n",
       "      <td>...</td>\n",
       "      <td>...</td>\n",
       "      <td>...</td>\n",
       "      <td>...</td>\n",
       "      <td>...</td>\n",
       "      <td>...</td>\n",
       "      <td>...</td>\n",
       "      <td>...</td>\n",
       "      <td>...</td>\n",
       "      <td>...</td>\n",
       "      <td>...</td>\n",
       "      <td>...</td>\n",
       "      <td>...</td>\n",
       "      <td>...</td>\n",
       "    </tr>\n",
       "    <tr>\n",
       "      <th>245718</th>\n",
       "      <td>d9ef769565064b1ff1ad90d6d18f69cb</td>\n",
       "      <td>XA-VYF</td>\n",
       "      <td>AO</td>\n",
       "      <td>BT</td>\n",
       "      <td>Playa</td>\n",
       "      <td>Ciudad Principal</td>\n",
       "      <td>2023-12-26 06:20:00</td>\n",
       "      <td>2023-12-26 10:10:00</td>\n",
       "      <td>180</td>\n",
       "      <td>166.0</td>\n",
       "      <td>89.0</td>\n",
       "      <td>52</td>\n",
       "      <td>12</td>\n",
       "      <td>2</td>\n",
       "    </tr>\n",
       "    <tr>\n",
       "      <th>245745</th>\n",
       "      <td>598035669a4f0fa2ce1207977932df9e</td>\n",
       "      <td>XA-VAI</td>\n",
       "      <td>AW</td>\n",
       "      <td>BT</td>\n",
       "      <td>Playa</td>\n",
       "      <td>Ciudad Principal</td>\n",
       "      <td>2023-12-28 10:25:00</td>\n",
       "      <td>2023-12-28 13:50:00</td>\n",
       "      <td>180</td>\n",
       "      <td>142.0</td>\n",
       "      <td>54.0</td>\n",
       "      <td>52</td>\n",
       "      <td>12</td>\n",
       "      <td>4</td>\n",
       "    </tr>\n",
       "    <tr>\n",
       "      <th>245747</th>\n",
       "      <td>90d2cab80b7700b5d854ae393678144b</td>\n",
       "      <td>XA-VYA</td>\n",
       "      <td>BA</td>\n",
       "      <td>BT</td>\n",
       "      <td>Playa</td>\n",
       "      <td>Ciudad Principal</td>\n",
       "      <td>2023-12-23 11:45:00</td>\n",
       "      <td>2023-12-23 15:00:00</td>\n",
       "      <td>180</td>\n",
       "      <td>156.0</td>\n",
       "      <td>61.0</td>\n",
       "      <td>51</td>\n",
       "      <td>12</td>\n",
       "      <td>6</td>\n",
       "    </tr>\n",
       "    <tr>\n",
       "      <th>245748</th>\n",
       "      <td>cc7c1c5e6fd132fd0bdab3a35aac33c0</td>\n",
       "      <td>XA-VBK</td>\n",
       "      <td>BM</td>\n",
       "      <td>BT</td>\n",
       "      <td>Playa</td>\n",
       "      <td>Ciudad Fronteriza</td>\n",
       "      <td>2023-12-29 07:30:00</td>\n",
       "      <td>2023-12-29 14:50:00</td>\n",
       "      <td>240</td>\n",
       "      <td>189.0</td>\n",
       "      <td>86.0</td>\n",
       "      <td>52</td>\n",
       "      <td>12</td>\n",
       "      <td>5</td>\n",
       "    </tr>\n",
       "    <tr>\n",
       "      <th>245750</th>\n",
       "      <td>9c8970e9836d9c5ef9415bfa93c3f408</td>\n",
       "      <td>XA-VAC</td>\n",
       "      <td>AT</td>\n",
       "      <td>BT</td>\n",
       "      <td>Playa</td>\n",
       "      <td>Ciudad Principal</td>\n",
       "      <td>2023-12-22 12:50:00</td>\n",
       "      <td>2023-12-22 16:10:00</td>\n",
       "      <td>180</td>\n",
       "      <td>163.0</td>\n",
       "      <td>95.0</td>\n",
       "      <td>51</td>\n",
       "      <td>12</td>\n",
       "      <td>5</td>\n",
       "    </tr>\n",
       "  </tbody>\n",
       "</table>\n",
       "<p>121724 rows × 14 columns</p>\n",
       "</div>"
      ],
      "text/plain": [
       "                               Flight_ID Aeronave DepartureStation  \\\n",
       "0       ab954014077430bd842cfa305a55c0f8   XA-VBY               AT   \n",
       "1       efd86c996035dacdca7a0ccb2560dda1   XA-VIX               BM   \n",
       "3       dd0fad3248951d2f71d63e6279aeaa4b   XA-VBW               AW   \n",
       "4       d0987ee648eea254063bfe2b39571b67   XA-VAP               BA   \n",
       "5       3b5df8805161ea827d2f2e4298c38e06   XA-VBY               AJ   \n",
       "...                                  ...      ...              ...   \n",
       "245718  d9ef769565064b1ff1ad90d6d18f69cb   XA-VYF               AO   \n",
       "245745  598035669a4f0fa2ce1207977932df9e   XA-VAI               AW   \n",
       "245747  90d2cab80b7700b5d854ae393678144b   XA-VYA               BA   \n",
       "245748  cc7c1c5e6fd132fd0bdab3a35aac33c0   XA-VBK               BM   \n",
       "245750  9c8970e9836d9c5ef9415bfa93c3f408   XA-VAC               AT   \n",
       "\n",
       "       ArrivalStation     Destination_Type          Origin_Type  \\\n",
       "0                  AZ    Ciudad Fronteriza     Ciudad Principal   \n",
       "1                  AV  MX Amigos y Familia    Ciudad Fronteriza   \n",
       "3                  AS  MX Amigos y Familia     Ciudad Principal   \n",
       "4                  AB                Playa     Ciudad Principal   \n",
       "5                  AR                Playa  MX Amigos y Familia   \n",
       "...               ...                  ...                  ...   \n",
       "245718             BT                Playa     Ciudad Principal   \n",
       "245745             BT                Playa     Ciudad Principal   \n",
       "245747             BT                Playa     Ciudad Principal   \n",
       "245748             BT                Playa    Ciudad Fronteriza   \n",
       "245750             BT                Playa     Ciudad Principal   \n",
       "\n",
       "                       STD                 STA  Capacity  Passengers  \\\n",
       "0      2023-10-19 11:40:00 2023-10-19 14:25:00       240       229.0   \n",
       "1      2023-07-03 00:55:00 2023-07-03 04:55:00       186       197.0   \n",
       "3      2023-06-26 15:15:00 2023-06-26 15:55:00       220       200.0   \n",
       "4      2023-02-10 08:40:00 2023-02-10 09:50:00       186       162.0   \n",
       "5      2023-09-07 17:10:00 2023-09-07 18:05:00       240       183.0   \n",
       "...                    ...                 ...       ...         ...   \n",
       "245718 2023-12-26 06:20:00 2023-12-26 10:10:00       180       166.0   \n",
       "245745 2023-12-28 10:25:00 2023-12-28 13:50:00       180       142.0   \n",
       "245747 2023-12-23 11:45:00 2023-12-23 15:00:00       180       156.0   \n",
       "245748 2023-12-29 07:30:00 2023-12-29 14:50:00       240       189.0   \n",
       "245750 2023-12-22 12:50:00 2023-12-22 16:10:00       180       163.0   \n",
       "\n",
       "        Bookings  Semana  Mes  DiaSemana  \n",
       "0          157.0      42   10          4  \n",
       "1          109.0      27    7          1  \n",
       "3          142.0      26    6          1  \n",
       "4           90.0       6    2          5  \n",
       "5          125.0      36    9          4  \n",
       "...          ...     ...  ...        ...  \n",
       "245718      89.0      52   12          2  \n",
       "245745      54.0      52   12          4  \n",
       "245747      61.0      51   12          6  \n",
       "245748      86.0      52   12          5  \n",
       "245750      95.0      51   12          5  \n",
       "\n",
       "[121724 rows x 14 columns]"
      ]
     },
     "execution_count": 11,
     "metadata": {},
     "output_type": "execute_result"
    }
   ],
   "source": [
    "flights_[\"STD\"] = pd.to_datetime(flights_[\"STD\"])\n",
    "flights_[\"STA\"] = pd.to_datetime(flights_[\"STA\"])\n",
    "flights_[\"Semana\"] = flights_[\"STD\"].dt.isocalendar().week\n",
    "flights_[\"DiaSemana\"] = flights_[\"STD\"].dt.weekday + 1\n",
    "flights_[\"Mes\"] = flights_[\"STD\"].dt.month\n",
    "flights_"
   ]
  },
  {
   "cell_type": "code",
   "execution_count": 12,
   "metadata": {},
   "outputs": [],
   "source": [
    "flights_.to_parquet(\"../resources/flights_clean.parquet\", index=False)"
   ]
  },
  {
   "cell_type": "markdown",
   "metadata": {},
   "source": [
    "## Ventas"
   ]
  },
  {
   "cell_type": "code",
   "execution_count": null,
   "metadata": {},
   "outputs": [],
   "source": [
    "sales = pd.read_parquet(\"../resources/sales.parquet\")"
   ]
  },
  {
   "cell_type": "code",
   "execution_count": null,
   "metadata": {},
   "outputs": [
    {
     "data": {
      "text/html": [
       "<div>\n",
       "<style scoped>\n",
       "    .dataframe tbody tr th:only-of-type {\n",
       "        vertical-align: middle;\n",
       "    }\n",
       "\n",
       "    .dataframe tbody tr th {\n",
       "        vertical-align: top;\n",
       "    }\n",
       "\n",
       "    .dataframe thead th {\n",
       "        text-align: right;\n",
       "    }\n",
       "</style>\n",
       "<table border=\"1\" class=\"dataframe\">\n",
       "  <thead>\n",
       "    <tr style=\"text-align: right;\">\n",
       "      <th></th>\n",
       "      <th>Flight_ID</th>\n",
       "      <th>ProductType</th>\n",
       "      <th>ProductName</th>\n",
       "      <th>Quantity</th>\n",
       "      <th>TotalSales</th>\n",
       "    </tr>\n",
       "  </thead>\n",
       "  <tbody>\n",
       "    <tr>\n",
       "      <th>0</th>\n",
       "      <td>a05290288259526edd3601160b10e1de</td>\n",
       "      <td>Botanas</td>\n",
       "      <td>Carne Seca Habanero</td>\n",
       "      <td>1</td>\n",
       "      <td>55.0</td>\n",
       "    </tr>\n",
       "    <tr>\n",
       "      <th>1</th>\n",
       "      <td>08f6f97437df8db101b050f1110be656</td>\n",
       "      <td>Licores</td>\n",
       "      <td>Jw Red Label</td>\n",
       "      <td>2</td>\n",
       "      <td>240.0</td>\n",
       "    </tr>\n",
       "    <tr>\n",
       "      <th>2</th>\n",
       "      <td>4e09c949826a77207868412baeff6d30</td>\n",
       "      <td>Licores</td>\n",
       "      <td>Jack And Coke</td>\n",
       "      <td>8</td>\n",
       "      <td>576.0</td>\n",
       "    </tr>\n",
       "    <tr>\n",
       "      <th>3</th>\n",
       "      <td>c3e1568fe46c68d3174681d322d412b3</td>\n",
       "      <td>Licores</td>\n",
       "      <td>Jw Red Label</td>\n",
       "      <td>2</td>\n",
       "      <td>240.0</td>\n",
       "    </tr>\n",
       "    <tr>\n",
       "      <th>4</th>\n",
       "      <td>7396e43fb94caca87add7bb1f1611e7e</td>\n",
       "      <td>Vivabus</td>\n",
       "      <td>Vivabus_Gdl.-Nvo. C. Camionera</td>\n",
       "      <td>4</td>\n",
       "      <td>320.0</td>\n",
       "    </tr>\n",
       "  </tbody>\n",
       "</table>\n",
       "</div>"
      ],
      "text/plain": [
       "                          Flight_ID ProductType  \\\n",
       "0  a05290288259526edd3601160b10e1de     Botanas   \n",
       "1  08f6f97437df8db101b050f1110be656     Licores   \n",
       "2  4e09c949826a77207868412baeff6d30     Licores   \n",
       "3  c3e1568fe46c68d3174681d322d412b3     Licores   \n",
       "4  7396e43fb94caca87add7bb1f1611e7e     Vivabus   \n",
       "\n",
       "                      ProductName  Quantity  TotalSales  \n",
       "0             Carne Seca Habanero         1        55.0  \n",
       "1                   Jw Red Label          2       240.0  \n",
       "2                   Jack And Coke         8       576.0  \n",
       "3                    Jw Red Label         2       240.0  \n",
       "4  Vivabus_Gdl.-Nvo. C. Camionera         4       320.0  "
      ]
     },
     "metadata": {},
     "output_type": "display_data"
    }
   ],
   "source": [
    "sales.head()"
   ]
  },
  {
   "cell_type": "code",
   "execution_count": null,
   "metadata": {},
   "outputs": [
    {
     "name": "stdout",
     "output_type": "stream",
     "text": [
      "<class 'pandas.core.frame.DataFrame'>\n",
      "RangeIndex: 2564361 entries, 0 to 2564360\n",
      "Data columns (total 5 columns):\n",
      " #   Column       Dtype  \n",
      "---  ------       -----  \n",
      " 0   Flight_ID    object \n",
      " 1   ProductType  object \n",
      " 2   ProductName  object \n",
      " 3   Quantity     int64  \n",
      " 4   TotalSales   float64\n",
      "dtypes: float64(1), int64(1), object(3)\n",
      "memory usage: 97.8+ MB\n"
     ]
    }
   ],
   "source": [
    "sales.info()"
   ]
  },
  {
   "cell_type": "code",
   "execution_count": null,
   "metadata": {},
   "outputs": [
    {
     "data": {
      "text/html": [
       "<div>\n",
       "<style scoped>\n",
       "    .dataframe tbody tr th:only-of-type {\n",
       "        vertical-align: middle;\n",
       "    }\n",
       "\n",
       "    .dataframe tbody tr th {\n",
       "        vertical-align: top;\n",
       "    }\n",
       "\n",
       "    .dataframe thead th {\n",
       "        text-align: right;\n",
       "    }\n",
       "</style>\n",
       "<table border=\"1\" class=\"dataframe\">\n",
       "  <thead>\n",
       "    <tr style=\"text-align: right;\">\n",
       "      <th></th>\n",
       "      <th>Quantity</th>\n",
       "      <th>TotalSales</th>\n",
       "    </tr>\n",
       "  </thead>\n",
       "  <tbody>\n",
       "    <tr>\n",
       "      <th>count</th>\n",
       "      <td>2.564361e+06</td>\n",
       "      <td>2.564361e+06</td>\n",
       "    </tr>\n",
       "    <tr>\n",
       "      <th>mean</th>\n",
       "      <td>2.519319e+00</td>\n",
       "      <td>1.110370e+02</td>\n",
       "    </tr>\n",
       "    <tr>\n",
       "      <th>std</th>\n",
       "      <td>2.829032e+00</td>\n",
       "      <td>1.736604e+02</td>\n",
       "    </tr>\n",
       "    <tr>\n",
       "      <th>min</th>\n",
       "      <td>1.000000e+00</td>\n",
       "      <td>-3.234000e+03</td>\n",
       "    </tr>\n",
       "    <tr>\n",
       "      <th>25%</th>\n",
       "      <td>1.000000e+00</td>\n",
       "      <td>4.500000e+01</td>\n",
       "    </tr>\n",
       "    <tr>\n",
       "      <th>50%</th>\n",
       "      <td>2.000000e+00</td>\n",
       "      <td>8.000000e+01</td>\n",
       "    </tr>\n",
       "    <tr>\n",
       "      <th>75%</th>\n",
       "      <td>3.000000e+00</td>\n",
       "      <td>1.440000e+02</td>\n",
       "    </tr>\n",
       "    <tr>\n",
       "      <th>max</th>\n",
       "      <td>8.500000e+01</td>\n",
       "      <td>1.290000e+04</td>\n",
       "    </tr>\n",
       "  </tbody>\n",
       "</table>\n",
       "</div>"
      ],
      "text/plain": [
       "           Quantity    TotalSales\n",
       "count  2.564361e+06  2.564361e+06\n",
       "mean   2.519319e+00  1.110370e+02\n",
       "std    2.829032e+00  1.736604e+02\n",
       "min    1.000000e+00 -3.234000e+03\n",
       "25%    1.000000e+00  4.500000e+01\n",
       "50%    2.000000e+00  8.000000e+01\n",
       "75%    3.000000e+00  1.440000e+02\n",
       "max    8.500000e+01  1.290000e+04"
      ]
     },
     "metadata": {},
     "output_type": "display_data"
    }
   ],
   "source": [
    "sales.describe()"
   ]
  },
  {
   "cell_type": "code",
   "execution_count": null,
   "metadata": {},
   "outputs": [
    {
     "data": {
      "text/plain": [
       "Flight_ID\n",
       "09a295c868301fe15df13d8411cd4d37    73\n",
       "4c65ba84403c407f59258b9ad414e40d    73\n",
       "a44008629d97a1b4c9b6e0980ae8b11a    73\n",
       "edbdab3c1c0df3d2b2213343fb9144eb    73\n",
       "b6a39758032c87d2e315889e36b97277    72\n",
       "14069ac4ad5e26456a8f103484b84774    71\n",
       "ab6dc691f1869a7c60dfd306ea408cdf    71\n",
       "fd0e971f1c0af6e01be0cec64326d09b    70\n",
       "c09524fd81d49de6643b61b31bae4864    69\n",
       "722a5e63351b62bc5e95488f77f1c84e    69\n",
       "Name: count, dtype: int64"
      ]
     },
     "metadata": {},
     "output_type": "display_data"
    }
   ],
   "source": [
    "sales[\"Flight_ID\"].value_counts().head(10)"
   ]
  },
  {
   "cell_type": "code",
   "execution_count": null,
   "metadata": {},
   "outputs": [],
   "source": [
    "# Se eliminan valores nulos pero\n",
    "# realmente no hay\n",
    "sales.dropna(inplace=True)"
   ]
  },
  {
   "cell_type": "code",
   "execution_count": null,
   "metadata": {},
   "outputs": [
    {
     "data": {
      "text/plain": [
       "ProductType\n",
       "Botanas                 613793\n",
       "Refrescos               585118\n",
       "Specials                395760\n",
       "Licores                 304987\n",
       "Perecederos             181990\n",
       "Galletas                143928\n",
       "Bebidas Calientes       125235\n",
       "Sopas                   115486\n",
       "OFERTAS                  38384\n",
       "Lacteos                  37755\n",
       "Vivabus                   9819\n",
       "Transportaciones CUN      3635\n",
       "Hertz.                    2398\n",
       "COMBOS CREW               2017\n",
       "VIVA Taxis                1384\n",
       "Transportaciones MTY      1220\n",
       "VivaTransfer               435\n",
       "Antros                     388\n",
       "VIVA PLAY                  386\n",
       "Transportaciones TLC       239\n",
       "Alimentos Charter            4\n",
       "Name: count, dtype: int64"
      ]
     },
     "metadata": {},
     "output_type": "display_data"
    }
   ],
   "source": [
    "sales[\"ProductType\"].value_counts()"
   ]
  },
  {
   "cell_type": "markdown",
   "metadata": {},
   "source": [
    "Se eliminan aquellos tipos de producto que no son de interés para el análisis pues no son tangibles"
   ]
  },
  {
   "cell_type": "code",
   "execution_count": null,
   "metadata": {},
   "outputs": [
    {
     "data": {
      "text/plain": [
       "ProductType\n",
       "Botanas              613793\n",
       "Refrescos            585118\n",
       "Licores              304987\n",
       "Perecederos          181990\n",
       "Galletas             143928\n",
       "Bebidas Calientes    125235\n",
       "Sopas                115486\n",
       "Lacteos               37755\n",
       "Name: count, dtype: int64"
      ]
     },
     "metadata": {},
     "output_type": "display_data"
    }
   ],
   "source": [
    "excluded_types = [\n",
    "    \"Specials\",\n",
    "    \"OFERTAS \",\n",
    "    \"Vivabus\",\n",
    "    \"Transportaciones CUN\",\n",
    "    \"Hertz.\",\n",
    "    \"COMBOS CREW\",\n",
    "    \"VIVA Taxis\",\n",
    "    \"Transportaciones MTY\",\n",
    "    \"VivaTransfer\",\n",
    "    \"Antros\",\n",
    "    \"VIVA PLAY\",\n",
    "    \"Transportaciones TLC\",\n",
    "    \"Alimentos Charter\",\n",
    "]\n",
    "\n",
    "sales = sales[~sales.ProductType.isin(excluded_types)]\n",
    "sales[\"ProductType\"].value_counts()"
   ]
  },
  {
   "cell_type": "code",
   "execution_count": null,
   "metadata": {},
   "outputs": [
    {
     "name": "stdout",
     "output_type": "stream",
     "text": [
      "<class 'pandas.core.frame.DataFrame'>\n",
      "Index: 2108292 entries, 0 to 2564360\n",
      "Data columns (total 5 columns):\n",
      " #   Column       Dtype  \n",
      "---  ------       -----  \n",
      " 0   Flight_ID    object \n",
      " 1   ProductType  object \n",
      " 2   ProductName  object \n",
      " 3   Quantity     int64  \n",
      " 4   TotalSales   float64\n",
      "dtypes: float64(1), int64(1), object(3)\n",
      "memory usage: 96.5+ MB\n"
     ]
    }
   ],
   "source": [
    "sales.info()"
   ]
  },
  {
   "cell_type": "markdown",
   "metadata": {},
   "source": [
    "Se eliminan aquellas ventas que sean negaivas pues implican descuentos"
   ]
  },
  {
   "cell_type": "code",
   "execution_count": null,
   "metadata": {},
   "outputs": [],
   "source": [
    "sales = sales[sales.TotalSales > 0]"
   ]
  },
  {
   "cell_type": "code",
   "execution_count": null,
   "metadata": {},
   "outputs": [],
   "source": [
    "sales.drop(columns=[\"TotalSales\"], inplace=True)"
   ]
  },
  {
   "cell_type": "code",
   "execution_count": null,
   "metadata": {},
   "outputs": [
    {
     "name": "stdout",
     "output_type": "stream",
     "text": [
      "<class 'pandas.core.frame.DataFrame'>\n",
      "Index: 2107861 entries, 0 to 2564360\n",
      "Data columns (total 4 columns):\n",
      " #   Column       Dtype \n",
      "---  ------       ----- \n",
      " 0   Flight_ID    object\n",
      " 1   ProductType  object\n",
      " 2   ProductName  object\n",
      " 3   Quantity     int64 \n",
      "dtypes: int64(1), object(3)\n",
      "memory usage: 80.4+ MB\n"
     ]
    }
   ],
   "source": [
    "sales.info()"
   ]
  },
  {
   "cell_type": "code",
   "execution_count": null,
   "metadata": {},
   "outputs": [],
   "source": [
    "sales.reset_index(inplace=True)"
   ]
  },
  {
   "cell_type": "code",
   "execution_count": null,
   "metadata": {},
   "outputs": [
    {
     "name": "stderr",
     "output_type": "stream",
     "text": [
      "c:\\Users\\Franco Mendoza\\AppData\\Local\\Programs\\Python\\Python311\\Lib\\site-packages\\pyarrow\\pandas_compat.py:373: FutureWarning: is_sparse is deprecated and will be removed in a future version. Check `isinstance(dtype, pd.SparseDtype)` instead.\n",
      "  if _pandas_api.is_sparse(col):\n"
     ]
    }
   ],
   "source": [
    "# Usar nuevos datos de sales\n",
    "sales.to_parquet(\"../resources/sales_cleaned.parquet\")"
   ]
  }
 ],
 "metadata": {
  "kernelspec": {
   "display_name": ".venv",
   "language": "python",
   "name": "python3"
  },
  "language_info": {
   "codemirror_mode": {
    "name": "ipython",
    "version": 3
   },
   "file_extension": ".py",
   "mimetype": "text/x-python",
   "name": "python",
   "nbconvert_exporter": "python",
   "pygments_lexer": "ipython3",
   "version": "3.10.11"
  }
 },
 "nbformat": 4,
 "nbformat_minor": 2
}
