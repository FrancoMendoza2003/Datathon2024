{
 "cells": [
  {
   "cell_type": "code",
   "execution_count": 7,
   "metadata": {},
   "outputs": [],
   "source": [
    "import pandas as pd\n",
    "import numpy as np\n",
    "import pickle\n",
    "import json"
   ]
  },
  {
   "cell_type": "code",
   "execution_count": 12,
   "metadata": {},
   "outputs": [
    {
     "data": {
      "text/plain": [
       "['Modelo-agua',\n",
       " 'Modelo-amstel_ultra',\n",
       " 'Modelo-arandano',\n",
       " 'Modelo-arandano_mango_mix',\n",
       " 'Modelo-arcoiris',\n",
       " 'Modelo-baileys',\n",
       " 'Modelo-baileys',\n",
       " 'Modelo-cafe_19_cafe_clasico',\n",
       " 'Modelo-cafe_19_capuchino',\n",
       " 'Modelo-cafe_19_chiapas']"
      ]
     },
     "execution_count": 12,
     "metadata": {},
     "output_type": "execute_result"
    }
   ],
   "source": [
    "with open(\"../../src/data/productos.json\") as f:\n",
    "    data = json.load(f)\n",
    "    modelos_nombres = [f\"Modelo-{producto}\" for producto in data[\"productos\"]]\n",
    "    categorias_productos = data[\"categorias\"]\n",
    "    categorias = data[\"categorias_unicas\"]\n",
    "    product_index = data[\"product_index\"]\n",
    "    index_product = {v: k for k, v in product_index.items()}\n",
    "\n",
    "modelos_nombres[:10]"
   ]
  },
  {
   "cell_type": "markdown",
   "metadata": {},
   "source": [
    "# Importar modelos"
   ]
  },
  {
   "cell_type": "code",
   "execution_count": 13,
   "metadata": {},
   "outputs": [],
   "source": [
    "models = {}\n",
    "for model_pickles in modelos_nombres:\n",
    "    model = pickle.load(open(f\"renamed/{model_pickles}.pkl\", \"rb\"))\n",
    "    models[model_pickles] = model"
   ]
  },
  {
   "cell_type": "code",
   "execution_count": 17,
   "metadata": {},
   "outputs": [],
   "source": [
    "# Lectura de variables\n",
    "# Se debe ya tener las variables de Passengers, y Bookings\n",
    "# variables = pd.read_csv(\"input_path.csv\")"
   ]
  },
  {
   "cell_type": "code",
   "execution_count": null,
   "metadata": {},
   "outputs": [],
   "source": []
  }
 ],
 "metadata": {
  "kernelspec": {
   "display_name": ".venv",
   "language": "python",
   "name": "python3"
  },
  "language_info": {
   "codemirror_mode": {
    "name": "ipython",
    "version": 3
   },
   "file_extension": ".py",
   "mimetype": "text/x-python",
   "name": "python",
   "nbconvert_exporter": "python",
   "pygments_lexer": "ipython3",
   "version": "3.10.11"
  }
 },
 "nbformat": 4,
 "nbformat_minor": 2
}
