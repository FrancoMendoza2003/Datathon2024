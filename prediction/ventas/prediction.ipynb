{
 "cells": [
  {
   "cell_type": "code",
   "execution_count": 142,
   "metadata": {},
   "outputs": [],
   "source": [
    "import sys\n",
    "import pickle\n",
    "\n",
    "# Se agrega el path para poder importar los modulos locales\n",
    "if \"../\" not in sys.path:\n",
    "    sys.path.append(\"../\")\n",
    "\n",
    "import pandas as pd\n",
    "import matplotlib.pyplot as plt\n",
    "\n",
    "import shap"
   ]
  },
  {
   "cell_type": "code",
   "execution_count": null,
   "metadata": {},
   "outputs": [],
   "source": []
  },
  {
   "cell_type": "code",
   "execution_count": 143,
   "metadata": {},
   "outputs": [],
   "source": [
    "df = pd.read_parquet(\"../../resources/vuelos_sales_pred.parquet\")"
   ]
  },
  {
   "cell_type": "code",
   "execution_count": 144,
   "metadata": {},
   "outputs": [],
   "source": [
    "df = df[df[\"Duracion\"] < 300]"
   ]
  },
  {
   "cell_type": "code",
   "execution_count": null,
   "metadata": {},
   "outputs": [],
   "source": []
  },
  {
   "cell_type": "code",
   "execution_count": 145,
   "metadata": {},
   "outputs": [],
   "source": [
    "# Columna de ceros\n",
    "df[\"arrival_AB\"] = 0"
   ]
  },
  {
   "cell_type": "code",
   "execution_count": 146,
   "metadata": {},
   "outputs": [],
   "source": [
    "X = pd.read_parquet(\"../pasajeros/data/files2024Test.parquet\")"
   ]
  },
  {
   "cell_type": "code",
   "execution_count": 147,
   "metadata": {},
   "outputs": [],
   "source": [
    "X = X.groupby(\"Flight_ID\").mean()"
   ]
  },
  {
   "cell_type": "code",
   "execution_count": 148,
   "metadata": {},
   "outputs": [],
   "source": [
    "df.drop(columns=[\"Passengers\", \"Bookings\"], inplace=True)"
   ]
  },
  {
   "cell_type": "code",
   "execution_count": 149,
   "metadata": {},
   "outputs": [],
   "source": [
    "df[\"Passengers\"] = X[\"Passengers\"]\n",
    "df[\"Bookings\"] = X[\"Bookings\"]"
   ]
  },
  {
   "cell_type": "code",
   "execution_count": 150,
   "metadata": {},
   "outputs": [],
   "source": [
    "# open a model with pickle\n",
    "with open(\"../productos/models/ModeloVentas.pkl\", \"rb\") as file:\n",
    "    model = pickle.load(file)"
   ]
  },
  {
   "cell_type": "code",
   "execution_count": null,
   "metadata": {},
   "outputs": [],
   "source": []
  },
  {
   "cell_type": "code",
   "execution_count": 161,
   "metadata": {},
   "outputs": [],
   "source": [
    "x = df[\n",
    "    [\n",
    "        \"Bookings\",\n",
    "        \"Passengers\",\n",
    "        \"Semana\",\n",
    "        \"Mes\",\n",
    "        \"Capacity\",\n",
    "        \"Duracion\",\n",
    "        \"Hora\",\n",
    "        \"Dia\",\n",
    "        \"destino_amigosfamilia\",\n",
    "        \"destino_ciudadfronteriza\",\n",
    "        \"destino_ciudadprincipal\",\n",
    "        \"destino_ecoturismo\",\n",
    "        \"destino_playa\",\n",
    "        \"origen_amigosfamilia\",\n",
    "        \"origen_ciudadfronteriza\",\n",
    "        \"origen_ciudadprincipal\",\n",
    "        \"origen_ecoturismo\",\n",
    "        \"origen_playa\",\n",
    "        \"Book_Pass\",\n",
    "        \"departure_AB\",\n",
    "        \"departure_AD\",\n",
    "        \"departure_AE\",\n",
    "        \"departure_AF\",\n",
    "        \"departure_AI\",\n",
    "        \"departure_AJ\",\n",
    "        \"departure_AK\",\n",
    "        \"departure_AL\",\n",
    "        \"departure_AM\",\n",
    "        \"departure_AO\",\n",
    "        \"departure_AP\",\n",
    "        \"departure_AQ\",\n",
    "        \"departure_AR\",\n",
    "        \"departure_AS\",\n",
    "        \"departure_AT\",\n",
    "        \"departure_AU\",\n",
    "        \"departure_AV\",\n",
    "        \"departure_AW\",\n",
    "        \"departure_AX\",\n",
    "        \"departure_AY\",\n",
    "        \"departure_AZ\",\n",
    "        \"departure_BA\",\n",
    "        \"departure_BB\",\n",
    "        \"departure_BC\",\n",
    "        \"departure_BD\",\n",
    "        \"departure_BE\",\n",
    "        \"departure_BF\",\n",
    "        \"departure_BG\",\n",
    "        \"departure_BH\",\n",
    "        \"departure_BJ\",\n",
    "        \"departure_BK\",\n",
    "        \"departure_BL\",\n",
    "        \"departure_BM\",\n",
    "        \"departure_BN\",\n",
    "        \"departure_BO\",\n",
    "        \"departure_BP\",\n",
    "        \"departure_BQ\",\n",
    "        \"departure_BS\",\n",
    "        \"departure_BT\",\n",
    "        \"arrival_AB\",\n",
    "        \"arrival_AD\",\n",
    "        \"arrival_AE\",\n",
    "        \"arrival_AF\",\n",
    "        \"arrival_AI\",\n",
    "        \"arrival_AJ\",\n",
    "        \"arrival_AK\",\n",
    "        \"arrival_AL\",\n",
    "        \"arrival_AM\",\n",
    "        \"arrival_AO\",\n",
    "        \"arrival_AP\",\n",
    "        \"arrival_AQ\",\n",
    "        \"arrival_AR\",\n",
    "        \"arrival_AT\",\n",
    "        \"arrival_AU\",\n",
    "        \"arrival_AV\",\n",
    "        \"arrival_AW\",\n",
    "        \"arrival_AX\",\n",
    "        \"arrival_AY\",\n",
    "        \"arrival_AZ\",\n",
    "        \"arrival_BA\",\n",
    "        \"arrival_BB\",\n",
    "        \"arrival_BC\",\n",
    "        \"arrival_BD\",\n",
    "        \"arrival_BE\",\n",
    "        \"arrival_BF\",\n",
    "        \"arrival_BG\",\n",
    "        \"arrival_BH\",\n",
    "        \"arrival_BJ\",\n",
    "        \"arrival_BK\",\n",
    "        \"arrival_BL\",\n",
    "        \"arrival_BM\",\n",
    "        \"arrival_BN\",\n",
    "        \"arrival_BO\",\n",
    "        \"arrival_BP\",\n",
    "        \"arrival_BQ\",\n",
    "        \"arrival_BS\",\n",
    "        \"arrival_BT\",\n",
    "    ]\n",
    "]"
   ]
  },
  {
   "cell_type": "code",
   "execution_count": 162,
   "metadata": {},
   "outputs": [
    {
     "name": "stderr",
     "output_type": "stream",
     "text": [
      "C:\\Users\\Franco Mendoza\\AppData\\Local\\Temp\\ipykernel_12932\\2466981764.py:1: SettingWithCopyWarning: \n",
      "A value is trying to be set on a copy of a slice from a DataFrame.\n",
      "Try using .loc[row_indexer,col_indexer] = value instead\n",
      "\n",
      "See the caveats in the documentation: https://pandas.pydata.org/pandas-docs/stable/user_guide/indexing.html#returning-a-view-versus-a-copy\n",
      "  x[\"TotalSales\"] = model.predict(x)\n"
     ]
    }
   ],
   "source": [
    "x[\"TotalSales\"] = model.predict(x)"
   ]
  },
  {
   "cell_type": "code",
   "execution_count": 163,
   "metadata": {},
   "outputs": [],
   "source": [
    "x.to_parquet(\"pred2024.parquet\")"
   ]
  },
  {
   "cell_type": "code",
   "execution_count": 156,
   "metadata": {},
   "outputs": [],
   "source": []
  },
  {
   "cell_type": "code",
   "execution_count": 160,
   "metadata": {},
   "outputs": [
    {
     "data": {
      "text/plain": [
       "['Bookings',\n",
       " 'Passengers',\n",
       " 'Semana',\n",
       " 'Mes',\n",
       " 'Capacity',\n",
       " 'Duracion',\n",
       " 'Hora',\n",
       " 'Dia',\n",
       " 'destino_amigosfamilia',\n",
       " 'destino_ciudadfronteriza',\n",
       " 'destino_ciudadprincipal',\n",
       " 'destino_ecoturismo',\n",
       " 'destino_playa',\n",
       " 'origen_amigosfamilia',\n",
       " 'origen_ciudadfronteriza',\n",
       " 'origen_ciudadprincipal',\n",
       " 'origen_ecoturismo',\n",
       " 'origen_playa',\n",
       " 'Book_Pass',\n",
       " 'departure_AB',\n",
       " 'departure_AD',\n",
       " 'departure_AE',\n",
       " 'departure_AF',\n",
       " 'departure_AI',\n",
       " 'departure_AJ',\n",
       " 'departure_AK',\n",
       " 'departure_AL',\n",
       " 'departure_AM',\n",
       " 'departure_AO',\n",
       " 'departure_AP',\n",
       " 'departure_AQ',\n",
       " 'departure_AR',\n",
       " 'departure_AS',\n",
       " 'departure_AT',\n",
       " 'departure_AU',\n",
       " 'departure_AV',\n",
       " 'departure_AW',\n",
       " 'departure_AX',\n",
       " 'departure_AY',\n",
       " 'departure_AZ',\n",
       " 'departure_BA',\n",
       " 'departure_BB',\n",
       " 'departure_BC',\n",
       " 'departure_BD',\n",
       " 'departure_BE',\n",
       " 'departure_BF',\n",
       " 'departure_BG',\n",
       " 'departure_BH',\n",
       " 'departure_BJ',\n",
       " 'departure_BK',\n",
       " 'departure_BL',\n",
       " 'departure_BM',\n",
       " 'departure_BN',\n",
       " 'departure_BO',\n",
       " 'departure_BP',\n",
       " 'departure_BQ',\n",
       " 'departure_BS',\n",
       " 'departure_BT',\n",
       " 'arrival_AB',\n",
       " 'arrival_AD',\n",
       " 'arrival_AE',\n",
       " 'arrival_AF',\n",
       " 'arrival_AI',\n",
       " 'arrival_AJ',\n",
       " 'arrival_AK',\n",
       " 'arrival_AL',\n",
       " 'arrival_AM',\n",
       " 'arrival_AO',\n",
       " 'arrival_AP',\n",
       " 'arrival_AQ',\n",
       " 'arrival_AR',\n",
       " 'arrival_AT',\n",
       " 'arrival_AU',\n",
       " 'arrival_AV',\n",
       " 'arrival_AW',\n",
       " 'arrival_AX',\n",
       " 'arrival_AY',\n",
       " 'arrival_AZ',\n",
       " 'arrival_BA',\n",
       " 'arrival_BB',\n",
       " 'arrival_BC',\n",
       " 'arrival_BD',\n",
       " 'arrival_BE',\n",
       " 'arrival_BF',\n",
       " 'arrival_BG',\n",
       " 'arrival_BH',\n",
       " 'arrival_BJ',\n",
       " 'arrival_BK',\n",
       " 'arrival_BL',\n",
       " 'arrival_BM',\n",
       " 'arrival_BN',\n",
       " 'arrival_BO',\n",
       " 'arrival_BP',\n",
       " 'arrival_BQ',\n",
       " 'arrival_BS',\n",
       " 'arrival_BT']"
      ]
     },
     "execution_count": 160,
     "metadata": {},
     "output_type": "execute_result"
    }
   ],
   "source": [
    "model.get_booster().feature_names"
   ]
  },
  {
   "cell_type": "code",
   "execution_count": null,
   "metadata": {},
   "outputs": [],
   "source": []
  }
 ],
 "metadata": {
  "kernelspec": {
   "display_name": "Python 3",
   "language": "python",
   "name": "python3"
  },
  "language_info": {
   "codemirror_mode": {
    "name": "ipython",
    "version": 3
   },
   "file_extension": ".py",
   "mimetype": "text/x-python",
   "name": "python",
   "nbconvert_exporter": "python",
   "pygments_lexer": "ipython3",
   "version": "3.11.0"
  }
 },
 "nbformat": 4,
 "nbformat_minor": 2
}
