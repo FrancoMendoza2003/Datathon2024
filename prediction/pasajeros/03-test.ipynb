{
 "cells": [
  {
   "cell_type": "code",
   "execution_count": null,
   "metadata": {},
   "outputs": [],
   "source": [
    "%load_ext autoreload\n",
    "%autoreload 2\n",
    "\n",
    "%pip install -r ../../requirements.txt"
   ]
  },
  {
   "cell_type": "code",
   "execution_count": 12,
   "metadata": {},
   "outputs": [],
   "source": [
    "import sys\n",
    "import pickle\n",
    "\n",
    "# Se agrega el path para poder importar los modulos locales\n",
    "if \"../\" not in sys.path:\n",
    "    sys.path.append(\"../\")\n",
    "\n",
    "import pandas as pd\n",
    "\n",
    "\n",
    "\n",
    "import shap"
   ]
  },
  {
   "cell_type": "code",
   "execution_count": 27,
   "metadata": {},
   "outputs": [],
   "source": [
    "X = pd.read_parquet(\"data/variablesTest.parquet\")\n",
    "X2 = pd.read_parquet(\"data/variables.parquet\")"
   ]
  },
  {
   "cell_type": "code",
   "execution_count": 28,
   "metadata": {},
   "outputs": [
    {
     "data": {
      "text/plain": [
       "(10193, 189)"
      ]
     },
     "execution_count": 28,
     "metadata": {},
     "output_type": "execute_result"
    }
   ],
   "source": [
    "X.shape"
   ]
  },
  {
   "cell_type": "code",
   "execution_count": 29,
   "metadata": {},
   "outputs": [
    {
     "data": {
      "text/plain": [
       "(120224, 185)"
      ]
     },
     "execution_count": 29,
     "metadata": {},
     "output_type": "execute_result"
    }
   ],
   "source": [
    "X2.shape"
   ]
  },
  {
   "cell_type": "code",
   "execution_count": 30,
   "metadata": {},
   "outputs": [
    {
     "data": {
      "text/plain": [
       "Index(['Capacity', 'Mes', 'Semana', 'DiaSemana', 'Hora', 'HourDuration',\n",
       "       'aeronave_9h-amm', 'aeronave_9h-amp', 'aeronave_9h-amv',\n",
       "       'aeronave_9h-mlc',\n",
       "       ...\n",
       "       'destino_mx_amigos_y_familia', 'destino_playa',\n",
       "       'origen_ciudad_fronteriza', 'origen_ciudad_principal',\n",
       "       'origen_ecoturismo', 'origen_mx_amigos_y_familia', 'origen_playa',\n",
       "       'Dia', 'DiasAFeriadoCercano', 'VacacionesEscolares'],\n",
       "      dtype='object', length=189)"
      ]
     },
     "execution_count": 30,
     "metadata": {},
     "output_type": "execute_result"
    }
   ],
   "source": [
    "X.columns"
   ]
  },
  {
   "cell_type": "code",
   "execution_count": 31,
   "metadata": {},
   "outputs": [],
   "source": [
    "X2[\"a\"]=X[\"Capacity\"]\n",
    "X2[\"1\"]=X[\"Capacity\"]\n",
    "X2[\"2\"]=X[\"Capacity\"]\n",
    "X2[\"3\"]=X[\"Capacity\"]\n"
   ]
  },
  {
   "cell_type": "code",
   "execution_count": 32,
   "metadata": {},
   "outputs": [
    {
     "data": {
      "text/plain": [
       "array([ True,  True,  True,  True,  True,  True, False, False, False,\n",
       "       False, False, False, False, False, False, False, False, False,\n",
       "       False, False, False, False, False, False, False, False, False,\n",
       "       False, False, False, False, False, False, False, False, False,\n",
       "       False, False, False, False, False, False, False, False, False,\n",
       "       False, False, False, False, False, False, False, False, False,\n",
       "       False, False, False, False, False, False, False, False, False,\n",
       "       False, False, False, False, False, False, False, False, False,\n",
       "       False, False, False, False, False, False, False, False, False,\n",
       "       False, False, False, False, False, False, False, False, False,\n",
       "       False, False, False, False, False, False, False, False, False,\n",
       "       False, False, False, False, False, False, False, False, False,\n",
       "       False, False, False, False, False, False, False, False, False,\n",
       "       False, False, False, False, False, False, False, False, False,\n",
       "       False, False, False, False, False, False, False, False, False,\n",
       "       False, False, False, False, False, False, False, False, False,\n",
       "       False, False, False, False, False, False, False, False, False,\n",
       "       False, False, False, False, False, False, False, False, False,\n",
       "       False, False, False, False, False, False, False, False, False,\n",
       "       False, False, False, False, False, False, False, False, False,\n",
       "       False, False, False, False, False, False, False, False, False])"
      ]
     },
     "execution_count": 32,
     "metadata": {},
     "output_type": "execute_result"
    }
   ],
   "source": [
    "X.columns==X2.columns"
   ]
  },
  {
   "cell_type": "code",
   "execution_count": 16,
   "metadata": {},
   "outputs": [],
   "source": [
    "#open a model with pickle\n",
    "with open('models/xgb_pasajeros_model.pickle', 'rb') as file:\n",
    "    model = pickle.load(file)"
   ]
  },
  {
   "cell_type": "code",
   "execution_count": 17,
   "metadata": {},
   "outputs": [
    {
     "ename": "ValueError",
     "evalue": "feature_names mismatch: ['Capacity', 'Mes', 'Semana', 'DiaSemana', 'Hora', 'HourDuration', 'aeronave_9h-swb', 'aeronave_9h-swj', 'aeronave_9h-swm', 'aeronave_xa-vaa', 'aeronave_xa-vab', 'aeronave_xa-vac', 'aeronave_xa-vae', 'aeronave_xa-vai', 'aeronave_xa-vaj', 'aeronave_xa-vak', 'aeronave_xa-vam', 'aeronave_xa-van', 'aeronave_xa-vao', 'aeronave_xa-vap', 'aeronave_xa-vaq', 'aeronave_xa-var', 'aeronave_xa-vat', 'aeronave_xa-vau', 'aeronave_xa-vav', 'aeronave_xa-vaw', 'aeronave_xa-vax', 'aeronave_xa-vay', 'aeronave_xa-vba', 'aeronave_xa-vbb', 'aeronave_xa-vbh', 'aeronave_xa-vbi', 'aeronave_xa-vbj', 'aeronave_xa-vbk', 'aeronave_xa-vbm', 'aeronave_xa-vbn', 'aeronave_xa-vbp', 'aeronave_xa-vbq', 'aeronave_xa-vbr', 'aeronave_xa-vbs', 'aeronave_xa-vbt', 'aeronave_xa-vbu', 'aeronave_xa-vbv', 'aeronave_xa-vbw', 'aeronave_xa-vbx', 'aeronave_xa-vby', 'aeronave_xa-vbz', 'aeronave_xa-vcc', 'aeronave_xa-via', 'aeronave_xa-vib', 'aeronave_xa-vie', 'aeronave_xa-vif', 'aeronave_xa-vih', 'aeronave_xa-vii', 'aeronave_xa-vij', 'aeronave_xa-vik', 'aeronave_xa-vil', 'aeronave_xa-vim', 'aeronave_xa-vin', 'aeronave_xa-vio', 'aeronave_xa-vip', 'aeronave_xa-viq', 'aeronave_xa-vis', 'aeronave_xa-vit', 'aeronave_xa-viu', 'aeronave_xa-viv', 'aeronave_xa-viw', 'aeronave_xa-vix', 'aeronave_xa-viy', 'aeronave_xa-vxa', 'aeronave_xa-vxb', 'aeronave_xa-vxc', 'aeronave_xa-vxd', 'aeronave_xa-vxe', 'aeronave_xa-vxf', 'aeronave_xa-vxg', 'aeronave_xa-vxh', 'aeronave_xa-vxi', 'aeronave_xa-vxj', 'aeronave_xa-vxk', 'aeronave_xa-vxl', 'aeronave_xa-vxm', 'aeronave_xa-vxn', 'aeronave_xa-vxo', 'aeronave_xa-vxp', 'aeronave_xa-vya', 'aeronave_xa-vyb', 'aeronave_xa-vyd', 'aeronave_xa-vye', 'aeronave_xa-vyf', 'departure_ab', 'departure_ac', 'departure_ad', 'departure_ae', 'departure_af', 'departure_ai', 'departure_aj', 'departure_ak', 'departure_al', 'departure_am', 'departure_ao', 'departure_ap', 'departure_aq', 'departure_ar', 'departure_as', 'departure_at', 'departure_au', 'departure_av', 'departure_aw', 'departure_ax', 'departure_ay', 'departure_az', 'departure_ba', 'departure_bb', 'departure_bc', 'departure_bd', 'departure_be', 'departure_bf', 'departure_bg', 'departure_bh', 'departure_bi', 'departure_bj', 'departure_bk', 'departure_bl', 'departure_bm', 'departure_bn', 'departure_bo', 'departure_bp', 'departure_bq', 'departure_bs', 'departure_bt', 'arrival_ab', 'arrival_ac', 'arrival_ad', 'arrival_ae', 'arrival_af', 'arrival_ai', 'arrival_aj', 'arrival_ak', 'arrival_al', 'arrival_am', 'arrival_ao', 'arrival_ap', 'arrival_aq', 'arrival_ar', 'arrival_as', 'arrival_at', 'arrival_au', 'arrival_av', 'arrival_aw', 'arrival_ax', 'arrival_ay', 'arrival_az', 'arrival_ba', 'arrival_bb', 'arrival_bc', 'arrival_bd', 'arrival_be', 'arrival_bf', 'arrival_bg', 'arrival_bh', 'arrival_bi', 'arrival_bj', 'arrival_bk', 'arrival_bl', 'arrival_bm', 'arrival_bn', 'arrival_bo', 'arrival_bp', 'arrival_bq', 'arrival_bs', 'arrival_bt', 'destino_ciudad_fronteriza', 'destino_ciudad_principal', 'destino_ecoturismo', 'destino_mx_amigos_y_familia', 'destino_playa', 'origen_ciudad_fronteriza', 'origen_ciudad_principal', 'origen_ecoturismo', 'origen_mx_amigos_y_familia', 'origen_playa', 'Dia', 'DiasAFeriadoCercano', 'VacacionesEscolares'] ['Capacity', 'Mes', 'Semana', 'DiaSemana', 'Hora', 'HourDuration', 'aeronave_9h-amm', 'aeronave_9h-amp', 'aeronave_9h-amv', 'aeronave_9h-mlc', 'aeronave_9h-mlv', 'aeronave_9h-mlx', 'aeronave_9h-mly', 'aeronave_9h-swb', 'aeronave_9h-swc', 'aeronave_9h-swf', 'aeronave_9h-swi', 'aeronave_9h-swj', 'aeronave_9h-swm', 'aeronave_xa-vaa', 'aeronave_xa-vac', 'aeronave_xa-vae', 'aeronave_xa-vai', 'aeronave_xa-vaj', 'aeronave_xa-vak', 'aeronave_xa-vam', 'aeronave_xa-van', 'aeronave_xa-vao', 'aeronave_xa-vap', 'aeronave_xa-vaq', 'aeronave_xa-var', 'aeronave_xa-vat', 'aeronave_xa-vau', 'aeronave_xa-vav', 'aeronave_xa-vaw', 'aeronave_xa-vax', 'aeronave_xa-vay', 'aeronave_xa-vba', 'aeronave_xa-vbb', 'aeronave_xa-vbh', 'aeronave_xa-vbi', 'aeronave_xa-vbj', 'aeronave_xa-vbk', 'aeronave_xa-vbm', 'aeronave_xa-vbn', 'aeronave_xa-vbp', 'aeronave_xa-vbq', 'aeronave_xa-vbr', 'aeronave_xa-vbs', 'aeronave_xa-vbt', 'aeronave_xa-vbu', 'aeronave_xa-vbv', 'aeronave_xa-vbw', 'aeronave_xa-vbx', 'aeronave_xa-vby', 'aeronave_xa-vbz', 'aeronave_xa-vcc', 'aeronave_xa-via', 'aeronave_xa-vie', 'aeronave_xa-vif', 'aeronave_xa-vih', 'aeronave_xa-vii', 'aeronave_xa-vij', 'aeronave_xa-vik', 'aeronave_xa-vil', 'aeronave_xa-vim', 'aeronave_xa-vip', 'aeronave_xa-vis', 'aeronave_xa-vit', 'aeronave_xa-viu', 'aeronave_xa-viv', 'aeronave_xa-vix', 'aeronave_xa-viy', 'aeronave_xa-vxa', 'aeronave_xa-vxb', 'aeronave_xa-vxc', 'aeronave_xa-vxd', 'aeronave_xa-vxe', 'aeronave_xa-vxf', 'aeronave_xa-vxg', 'aeronave_xa-vxh', 'aeronave_xa-vxi', 'aeronave_xa-vxj', 'aeronave_xa-vxk', 'aeronave_xa-vxl', 'aeronave_xa-vxm', 'aeronave_xa-vxn', 'aeronave_xa-vxo', 'aeronave_xa-vxp', 'aeronave_xa-vya', 'aeronave_xa-vyb', 'aeronave_xa-vyd', 'aeronave_xa-vye', 'aeronave_xa-vyf', 'departure_ab', 'departure_ac', 'departure_ad', 'departure_ae', 'departure_af', 'departure_ai', 'departure_aj', 'departure_ak', 'departure_al', 'departure_am', 'departure_ao', 'departure_ap', 'departure_aq', 'departure_ar', 'departure_as', 'departure_at', 'departure_au', 'departure_av', 'departure_aw', 'departure_ax', 'departure_ay', 'departure_az', 'departure_ba', 'departure_bb', 'departure_bc', 'departure_bd', 'departure_be', 'departure_bf', 'departure_bg', 'departure_bh', 'departure_bi', 'departure_bj', 'departure_bk', 'departure_bl', 'departure_bm', 'departure_bn', 'departure_bo', 'departure_bp', 'departure_bq', 'departure_bs', 'departure_bt', 'arrival_ab', 'arrival_ac', 'arrival_ad', 'arrival_ae', 'arrival_af', 'arrival_ai', 'arrival_aj', 'arrival_ak', 'arrival_al', 'arrival_am', 'arrival_ao', 'arrival_ap', 'arrival_aq', 'arrival_ar', 'arrival_as', 'arrival_at', 'arrival_au', 'arrival_av', 'arrival_aw', 'arrival_ax', 'arrival_ay', 'arrival_az', 'arrival_ba', 'arrival_bb', 'arrival_bc', 'arrival_bd', 'arrival_be', 'arrival_bf', 'arrival_bg', 'arrival_bh', 'arrival_bi', 'arrival_bj', 'arrival_bk', 'arrival_bl', 'arrival_bm', 'arrival_bn', 'arrival_bo', 'arrival_bp', 'arrival_bq', 'arrival_bs', 'arrival_bt', 'destino_ciudad_fronteriza', 'destino_ciudad_principal', 'destino_ecoturismo', 'destino_mx_amigos_y_familia', 'destino_playa', 'origen_ciudad_fronteriza', 'origen_ciudad_principal', 'origen_ecoturismo', 'origen_mx_amigos_y_familia', 'origen_playa', 'Dia', 'DiasAFeriadoCercano', 'VacacionesEscolares']\nexpected aeronave_xa-vab, aeronave_xa-vio, aeronave_xa-viq, aeronave_xa-vin, aeronave_xa-viw, aeronave_xa-vib in input data\ntraining data did not have the following fields: aeronave_9h-mly, aeronave_9h-swf, aeronave_9h-swi, aeronave_9h-amv, aeronave_9h-mlc, aeronave_9h-amm, aeronave_9h-amp, aeronave_9h-mlx, aeronave_9h-mlv, aeronave_9h-swc",
     "output_type": "error",
     "traceback": [
      "\u001b[1;31m---------------------------------------------------------------------------\u001b[0m",
      "\u001b[1;31mValueError\u001b[0m                                Traceback (most recent call last)",
      "Cell \u001b[1;32mIn[17], line 1\u001b[0m\n\u001b[1;32m----> 1\u001b[0m y_pred \u001b[38;5;241m=\u001b[39m \u001b[43mmodel\u001b[49m\u001b[38;5;241;43m.\u001b[39;49m\u001b[43mpredict\u001b[49m\u001b[43m(\u001b[49m\u001b[43mX\u001b[49m\u001b[43m)\u001b[49m\n",
      "File \u001b[1;32md:\\anaconda3\\envs\\ame{{environment}}\\Lib\\site-packages\\xgboost\\sklearn.py:1168\u001b[0m, in \u001b[0;36mXGBModel.predict\u001b[1;34m(self, X, output_margin, validate_features, base_margin, iteration_range)\u001b[0m\n\u001b[0;32m   1166\u001b[0m \u001b[38;5;28;01mif\u001b[39;00m \u001b[38;5;28mself\u001b[39m\u001b[38;5;241m.\u001b[39m_can_use_inplace_predict():\n\u001b[0;32m   1167\u001b[0m     \u001b[38;5;28;01mtry\u001b[39;00m:\n\u001b[1;32m-> 1168\u001b[0m         predts \u001b[38;5;241m=\u001b[39m \u001b[38;5;28;43mself\u001b[39;49m\u001b[38;5;241;43m.\u001b[39;49m\u001b[43mget_booster\u001b[49m\u001b[43m(\u001b[49m\u001b[43m)\u001b[49m\u001b[38;5;241;43m.\u001b[39;49m\u001b[43minplace_predict\u001b[49m\u001b[43m(\u001b[49m\n\u001b[0;32m   1169\u001b[0m \u001b[43m            \u001b[49m\u001b[43mdata\u001b[49m\u001b[38;5;241;43m=\u001b[39;49m\u001b[43mX\u001b[49m\u001b[43m,\u001b[49m\n\u001b[0;32m   1170\u001b[0m \u001b[43m            \u001b[49m\u001b[43miteration_range\u001b[49m\u001b[38;5;241;43m=\u001b[39;49m\u001b[43miteration_range\u001b[49m\u001b[43m,\u001b[49m\n\u001b[0;32m   1171\u001b[0m \u001b[43m            \u001b[49m\u001b[43mpredict_type\u001b[49m\u001b[38;5;241;43m=\u001b[39;49m\u001b[38;5;124;43m\"\u001b[39;49m\u001b[38;5;124;43mmargin\u001b[39;49m\u001b[38;5;124;43m\"\u001b[39;49m\u001b[43m \u001b[49m\u001b[38;5;28;43;01mif\u001b[39;49;00m\u001b[43m \u001b[49m\u001b[43moutput_margin\u001b[49m\u001b[43m \u001b[49m\u001b[38;5;28;43;01melse\u001b[39;49;00m\u001b[43m \u001b[49m\u001b[38;5;124;43m\"\u001b[39;49m\u001b[38;5;124;43mvalue\u001b[39;49m\u001b[38;5;124;43m\"\u001b[39;49m\u001b[43m,\u001b[49m\n\u001b[0;32m   1172\u001b[0m \u001b[43m            \u001b[49m\u001b[43mmissing\u001b[49m\u001b[38;5;241;43m=\u001b[39;49m\u001b[38;5;28;43mself\u001b[39;49m\u001b[38;5;241;43m.\u001b[39;49m\u001b[43mmissing\u001b[49m\u001b[43m,\u001b[49m\n\u001b[0;32m   1173\u001b[0m \u001b[43m            \u001b[49m\u001b[43mbase_margin\u001b[49m\u001b[38;5;241;43m=\u001b[39;49m\u001b[43mbase_margin\u001b[49m\u001b[43m,\u001b[49m\n\u001b[0;32m   1174\u001b[0m \u001b[43m            \u001b[49m\u001b[43mvalidate_features\u001b[49m\u001b[38;5;241;43m=\u001b[39;49m\u001b[43mvalidate_features\u001b[49m\u001b[43m,\u001b[49m\n\u001b[0;32m   1175\u001b[0m \u001b[43m        \u001b[49m\u001b[43m)\u001b[49m\n\u001b[0;32m   1176\u001b[0m         \u001b[38;5;28;01mif\u001b[39;00m _is_cupy_array(predts):\n\u001b[0;32m   1177\u001b[0m             \u001b[38;5;28;01mimport\u001b[39;00m \u001b[38;5;21;01mcupy\u001b[39;00m  \u001b[38;5;66;03m# pylint: disable=import-error\u001b[39;00m\n",
      "File \u001b[1;32md:\\anaconda3\\envs\\ame{{environment}}\\Lib\\site-packages\\xgboost\\core.py:2418\u001b[0m, in \u001b[0;36mBooster.inplace_predict\u001b[1;34m(self, data, iteration_range, predict_type, missing, validate_features, base_margin, strict_shape)\u001b[0m\n\u001b[0;32m   2416\u001b[0m     data, fns, _ \u001b[38;5;241m=\u001b[39m _transform_pandas_df(data, enable_categorical)\n\u001b[0;32m   2417\u001b[0m     \u001b[38;5;28;01mif\u001b[39;00m validate_features:\n\u001b[1;32m-> 2418\u001b[0m         \u001b[38;5;28;43mself\u001b[39;49m\u001b[38;5;241;43m.\u001b[39;49m\u001b[43m_validate_features\u001b[49m\u001b[43m(\u001b[49m\u001b[43mfns\u001b[49m\u001b[43m)\u001b[49m\n\u001b[0;32m   2419\u001b[0m \u001b[38;5;28;01mif\u001b[39;00m _is_list(data) \u001b[38;5;129;01mor\u001b[39;00m _is_tuple(data):\n\u001b[0;32m   2420\u001b[0m     data \u001b[38;5;241m=\u001b[39m np\u001b[38;5;241m.\u001b[39marray(data)\n",
      "File \u001b[1;32md:\\anaconda3\\envs\\ame{{environment}}\\Lib\\site-packages\\xgboost\\core.py:2970\u001b[0m, in \u001b[0;36mBooster._validate_features\u001b[1;34m(self, feature_names)\u001b[0m\n\u001b[0;32m   2964\u001b[0m \u001b[38;5;28;01mif\u001b[39;00m my_missing:\n\u001b[0;32m   2965\u001b[0m     msg \u001b[38;5;241m+\u001b[39m\u001b[38;5;241m=\u001b[39m (\n\u001b[0;32m   2966\u001b[0m         \u001b[38;5;124m\"\u001b[39m\u001b[38;5;130;01m\\n\u001b[39;00m\u001b[38;5;124mtraining data did not have the following fields: \u001b[39m\u001b[38;5;124m\"\u001b[39m\n\u001b[0;32m   2967\u001b[0m         \u001b[38;5;241m+\u001b[39m \u001b[38;5;124m\"\u001b[39m\u001b[38;5;124m, \u001b[39m\u001b[38;5;124m\"\u001b[39m\u001b[38;5;241m.\u001b[39mjoin(\u001b[38;5;28mstr\u001b[39m(s) \u001b[38;5;28;01mfor\u001b[39;00m s \u001b[38;5;129;01min\u001b[39;00m my_missing)\n\u001b[0;32m   2968\u001b[0m     )\n\u001b[1;32m-> 2970\u001b[0m \u001b[38;5;28;01mraise\u001b[39;00m \u001b[38;5;167;01mValueError\u001b[39;00m(msg\u001b[38;5;241m.\u001b[39mformat(\u001b[38;5;28mself\u001b[39m\u001b[38;5;241m.\u001b[39mfeature_names, feature_names))\n",
      "\u001b[1;31mValueError\u001b[0m: feature_names mismatch: ['Capacity', 'Mes', 'Semana', 'DiaSemana', 'Hora', 'HourDuration', 'aeronave_9h-swb', 'aeronave_9h-swj', 'aeronave_9h-swm', 'aeronave_xa-vaa', 'aeronave_xa-vab', 'aeronave_xa-vac', 'aeronave_xa-vae', 'aeronave_xa-vai', 'aeronave_xa-vaj', 'aeronave_xa-vak', 'aeronave_xa-vam', 'aeronave_xa-van', 'aeronave_xa-vao', 'aeronave_xa-vap', 'aeronave_xa-vaq', 'aeronave_xa-var', 'aeronave_xa-vat', 'aeronave_xa-vau', 'aeronave_xa-vav', 'aeronave_xa-vaw', 'aeronave_xa-vax', 'aeronave_xa-vay', 'aeronave_xa-vba', 'aeronave_xa-vbb', 'aeronave_xa-vbh', 'aeronave_xa-vbi', 'aeronave_xa-vbj', 'aeronave_xa-vbk', 'aeronave_xa-vbm', 'aeronave_xa-vbn', 'aeronave_xa-vbp', 'aeronave_xa-vbq', 'aeronave_xa-vbr', 'aeronave_xa-vbs', 'aeronave_xa-vbt', 'aeronave_xa-vbu', 'aeronave_xa-vbv', 'aeronave_xa-vbw', 'aeronave_xa-vbx', 'aeronave_xa-vby', 'aeronave_xa-vbz', 'aeronave_xa-vcc', 'aeronave_xa-via', 'aeronave_xa-vib', 'aeronave_xa-vie', 'aeronave_xa-vif', 'aeronave_xa-vih', 'aeronave_xa-vii', 'aeronave_xa-vij', 'aeronave_xa-vik', 'aeronave_xa-vil', 'aeronave_xa-vim', 'aeronave_xa-vin', 'aeronave_xa-vio', 'aeronave_xa-vip', 'aeronave_xa-viq', 'aeronave_xa-vis', 'aeronave_xa-vit', 'aeronave_xa-viu', 'aeronave_xa-viv', 'aeronave_xa-viw', 'aeronave_xa-vix', 'aeronave_xa-viy', 'aeronave_xa-vxa', 'aeronave_xa-vxb', 'aeronave_xa-vxc', 'aeronave_xa-vxd', 'aeronave_xa-vxe', 'aeronave_xa-vxf', 'aeronave_xa-vxg', 'aeronave_xa-vxh', 'aeronave_xa-vxi', 'aeronave_xa-vxj', 'aeronave_xa-vxk', 'aeronave_xa-vxl', 'aeronave_xa-vxm', 'aeronave_xa-vxn', 'aeronave_xa-vxo', 'aeronave_xa-vxp', 'aeronave_xa-vya', 'aeronave_xa-vyb', 'aeronave_xa-vyd', 'aeronave_xa-vye', 'aeronave_xa-vyf', 'departure_ab', 'departure_ac', 'departure_ad', 'departure_ae', 'departure_af', 'departure_ai', 'departure_aj', 'departure_ak', 'departure_al', 'departure_am', 'departure_ao', 'departure_ap', 'departure_aq', 'departure_ar', 'departure_as', 'departure_at', 'departure_au', 'departure_av', 'departure_aw', 'departure_ax', 'departure_ay', 'departure_az', 'departure_ba', 'departure_bb', 'departure_bc', 'departure_bd', 'departure_be', 'departure_bf', 'departure_bg', 'departure_bh', 'departure_bi', 'departure_bj', 'departure_bk', 'departure_bl', 'departure_bm', 'departure_bn', 'departure_bo', 'departure_bp', 'departure_bq', 'departure_bs', 'departure_bt', 'arrival_ab', 'arrival_ac', 'arrival_ad', 'arrival_ae', 'arrival_af', 'arrival_ai', 'arrival_aj', 'arrival_ak', 'arrival_al', 'arrival_am', 'arrival_ao', 'arrival_ap', 'arrival_aq', 'arrival_ar', 'arrival_as', 'arrival_at', 'arrival_au', 'arrival_av', 'arrival_aw', 'arrival_ax', 'arrival_ay', 'arrival_az', 'arrival_ba', 'arrival_bb', 'arrival_bc', 'arrival_bd', 'arrival_be', 'arrival_bf', 'arrival_bg', 'arrival_bh', 'arrival_bi', 'arrival_bj', 'arrival_bk', 'arrival_bl', 'arrival_bm', 'arrival_bn', 'arrival_bo', 'arrival_bp', 'arrival_bq', 'arrival_bs', 'arrival_bt', 'destino_ciudad_fronteriza', 'destino_ciudad_principal', 'destino_ecoturismo', 'destino_mx_amigos_y_familia', 'destino_playa', 'origen_ciudad_fronteriza', 'origen_ciudad_principal', 'origen_ecoturismo', 'origen_mx_amigos_y_familia', 'origen_playa', 'Dia', 'DiasAFeriadoCercano', 'VacacionesEscolares'] ['Capacity', 'Mes', 'Semana', 'DiaSemana', 'Hora', 'HourDuration', 'aeronave_9h-amm', 'aeronave_9h-amp', 'aeronave_9h-amv', 'aeronave_9h-mlc', 'aeronave_9h-mlv', 'aeronave_9h-mlx', 'aeronave_9h-mly', 'aeronave_9h-swb', 'aeronave_9h-swc', 'aeronave_9h-swf', 'aeronave_9h-swi', 'aeronave_9h-swj', 'aeronave_9h-swm', 'aeronave_xa-vaa', 'aeronave_xa-vac', 'aeronave_xa-vae', 'aeronave_xa-vai', 'aeronave_xa-vaj', 'aeronave_xa-vak', 'aeronave_xa-vam', 'aeronave_xa-van', 'aeronave_xa-vao', 'aeronave_xa-vap', 'aeronave_xa-vaq', 'aeronave_xa-var', 'aeronave_xa-vat', 'aeronave_xa-vau', 'aeronave_xa-vav', 'aeronave_xa-vaw', 'aeronave_xa-vax', 'aeronave_xa-vay', 'aeronave_xa-vba', 'aeronave_xa-vbb', 'aeronave_xa-vbh', 'aeronave_xa-vbi', 'aeronave_xa-vbj', 'aeronave_xa-vbk', 'aeronave_xa-vbm', 'aeronave_xa-vbn', 'aeronave_xa-vbp', 'aeronave_xa-vbq', 'aeronave_xa-vbr', 'aeronave_xa-vbs', 'aeronave_xa-vbt', 'aeronave_xa-vbu', 'aeronave_xa-vbv', 'aeronave_xa-vbw', 'aeronave_xa-vbx', 'aeronave_xa-vby', 'aeronave_xa-vbz', 'aeronave_xa-vcc', 'aeronave_xa-via', 'aeronave_xa-vie', 'aeronave_xa-vif', 'aeronave_xa-vih', 'aeronave_xa-vii', 'aeronave_xa-vij', 'aeronave_xa-vik', 'aeronave_xa-vil', 'aeronave_xa-vim', 'aeronave_xa-vip', 'aeronave_xa-vis', 'aeronave_xa-vit', 'aeronave_xa-viu', 'aeronave_xa-viv', 'aeronave_xa-vix', 'aeronave_xa-viy', 'aeronave_xa-vxa', 'aeronave_xa-vxb', 'aeronave_xa-vxc', 'aeronave_xa-vxd', 'aeronave_xa-vxe', 'aeronave_xa-vxf', 'aeronave_xa-vxg', 'aeronave_xa-vxh', 'aeronave_xa-vxi', 'aeronave_xa-vxj', 'aeronave_xa-vxk', 'aeronave_xa-vxl', 'aeronave_xa-vxm', 'aeronave_xa-vxn', 'aeronave_xa-vxo', 'aeronave_xa-vxp', 'aeronave_xa-vya', 'aeronave_xa-vyb', 'aeronave_xa-vyd', 'aeronave_xa-vye', 'aeronave_xa-vyf', 'departure_ab', 'departure_ac', 'departure_ad', 'departure_ae', 'departure_af', 'departure_ai', 'departure_aj', 'departure_ak', 'departure_al', 'departure_am', 'departure_ao', 'departure_ap', 'departure_aq', 'departure_ar', 'departure_as', 'departure_at', 'departure_au', 'departure_av', 'departure_aw', 'departure_ax', 'departure_ay', 'departure_az', 'departure_ba', 'departure_bb', 'departure_bc', 'departure_bd', 'departure_be', 'departure_bf', 'departure_bg', 'departure_bh', 'departure_bi', 'departure_bj', 'departure_bk', 'departure_bl', 'departure_bm', 'departure_bn', 'departure_bo', 'departure_bp', 'departure_bq', 'departure_bs', 'departure_bt', 'arrival_ab', 'arrival_ac', 'arrival_ad', 'arrival_ae', 'arrival_af', 'arrival_ai', 'arrival_aj', 'arrival_ak', 'arrival_al', 'arrival_am', 'arrival_ao', 'arrival_ap', 'arrival_aq', 'arrival_ar', 'arrival_as', 'arrival_at', 'arrival_au', 'arrival_av', 'arrival_aw', 'arrival_ax', 'arrival_ay', 'arrival_az', 'arrival_ba', 'arrival_bb', 'arrival_bc', 'arrival_bd', 'arrival_be', 'arrival_bf', 'arrival_bg', 'arrival_bh', 'arrival_bi', 'arrival_bj', 'arrival_bk', 'arrival_bl', 'arrival_bm', 'arrival_bn', 'arrival_bo', 'arrival_bp', 'arrival_bq', 'arrival_bs', 'arrival_bt', 'destino_ciudad_fronteriza', 'destino_ciudad_principal', 'destino_ecoturismo', 'destino_mx_amigos_y_familia', 'destino_playa', 'origen_ciudad_fronteriza', 'origen_ciudad_principal', 'origen_ecoturismo', 'origen_mx_amigos_y_familia', 'origen_playa', 'Dia', 'DiasAFeriadoCercano', 'VacacionesEscolares']\nexpected aeronave_xa-vab, aeronave_xa-vio, aeronave_xa-viq, aeronave_xa-vin, aeronave_xa-viw, aeronave_xa-vib in input data\ntraining data did not have the following fields: aeronave_9h-mly, aeronave_9h-swf, aeronave_9h-swi, aeronave_9h-amv, aeronave_9h-mlc, aeronave_9h-amm, aeronave_9h-amp, aeronave_9h-mlx, aeronave_9h-mlv, aeronave_9h-swc"
     ]
    }
   ],
   "source": [
    "y_pred = model.predict(X)"
   ]
  }
 ],
 "metadata": {
  "kernelspec": {
   "display_name": "ame{{environment}}",
   "language": "python",
   "name": "python3"
  },
  "language_info": {
   "codemirror_mode": {
    "name": "ipython",
    "version": 3
   },
   "file_extension": ".py",
   "mimetype": "text/x-python",
   "name": "python",
   "nbconvert_exporter": "python",
   "pygments_lexer": "ipython3",
   "version": "3.11.3"
  }
 },
 "nbformat": 4,
 "nbformat_minor": 2
}
