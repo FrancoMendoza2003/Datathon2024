{
 "cells": [
  {
   "cell_type": "code",
   "execution_count": 66,
   "metadata": {},
   "outputs": [],
   "source": [
    "# Librerias\n",
    "import pandas as pd\n",
    "import matplotlib.pyplot as plt\n",
    "import numpy as np\n",
    "import seaborn as sns"
   ]
  },
  {
   "cell_type": "code",
   "execution_count": 67,
   "metadata": {},
   "outputs": [],
   "source": [
    "sales = pd.read_parquet(\"../resources/sales.parquet\")"
   ]
  },
  {
   "cell_type": "code",
   "execution_count": 69,
   "metadata": {},
   "outputs": [
    {
     "data": {
      "text/html": [
       "<div>\n",
       "<style scoped>\n",
       "    .dataframe tbody tr th:only-of-type {\n",
       "        vertical-align: middle;\n",
       "    }\n",
       "\n",
       "    .dataframe tbody tr th {\n",
       "        vertical-align: top;\n",
       "    }\n",
       "\n",
       "    .dataframe thead th {\n",
       "        text-align: right;\n",
       "    }\n",
       "</style>\n",
       "<table border=\"1\" class=\"dataframe\">\n",
       "  <thead>\n",
       "    <tr style=\"text-align: right;\">\n",
       "      <th></th>\n",
       "      <th>Flight_ID</th>\n",
       "      <th>ProductType</th>\n",
       "      <th>ProductName</th>\n",
       "      <th>Quantity</th>\n",
       "      <th>TotalSales</th>\n",
       "    </tr>\n",
       "  </thead>\n",
       "  <tbody>\n",
       "    <tr>\n",
       "      <th>0</th>\n",
       "      <td>a05290288259526edd3601160b10e1de</td>\n",
       "      <td>Botanas</td>\n",
       "      <td>Carne Seca Habanero</td>\n",
       "      <td>1</td>\n",
       "      <td>55.0</td>\n",
       "    </tr>\n",
       "    <tr>\n",
       "      <th>1</th>\n",
       "      <td>08f6f97437df8db101b050f1110be656</td>\n",
       "      <td>Licores</td>\n",
       "      <td>Jw Red Label</td>\n",
       "      <td>2</td>\n",
       "      <td>240.0</td>\n",
       "    </tr>\n",
       "    <tr>\n",
       "      <th>2</th>\n",
       "      <td>4e09c949826a77207868412baeff6d30</td>\n",
       "      <td>Licores</td>\n",
       "      <td>Jack And Coke</td>\n",
       "      <td>8</td>\n",
       "      <td>576.0</td>\n",
       "    </tr>\n",
       "    <tr>\n",
       "      <th>3</th>\n",
       "      <td>c3e1568fe46c68d3174681d322d412b3</td>\n",
       "      <td>Licores</td>\n",
       "      <td>Jw Red Label</td>\n",
       "      <td>2</td>\n",
       "      <td>240.0</td>\n",
       "    </tr>\n",
       "    <tr>\n",
       "      <th>4</th>\n",
       "      <td>7396e43fb94caca87add7bb1f1611e7e</td>\n",
       "      <td>Vivabus</td>\n",
       "      <td>Vivabus_Gdl.-Nvo. C. Camionera</td>\n",
       "      <td>4</td>\n",
       "      <td>320.0</td>\n",
       "    </tr>\n",
       "  </tbody>\n",
       "</table>\n",
       "</div>"
      ],
      "text/plain": [
       "                          Flight_ID ProductType  \\\n",
       "0  a05290288259526edd3601160b10e1de     Botanas   \n",
       "1  08f6f97437df8db101b050f1110be656     Licores   \n",
       "2  4e09c949826a77207868412baeff6d30     Licores   \n",
       "3  c3e1568fe46c68d3174681d322d412b3     Licores   \n",
       "4  7396e43fb94caca87add7bb1f1611e7e     Vivabus   \n",
       "\n",
       "                      ProductName  Quantity  TotalSales  \n",
       "0             Carne Seca Habanero         1        55.0  \n",
       "1                   Jw Red Label          2       240.0  \n",
       "2                   Jack And Coke         8       576.0  \n",
       "3                    Jw Red Label         2       240.0  \n",
       "4  Vivabus_Gdl.-Nvo. C. Camionera         4       320.0  "
      ]
     },
     "execution_count": 69,
     "metadata": {},
     "output_type": "execute_result"
    }
   ],
   "source": [
    "sales.head()"
   ]
  },
  {
   "cell_type": "code",
   "execution_count": 71,
   "metadata": {},
   "outputs": [
    {
     "name": "stdout",
     "output_type": "stream",
     "text": [
      "<class 'pandas.core.frame.DataFrame'>\n",
      "RangeIndex: 2564361 entries, 0 to 2564360\n",
      "Data columns (total 5 columns):\n",
      " #   Column       Dtype  \n",
      "---  ------       -----  \n",
      " 0   Flight_ID    object \n",
      " 1   ProductType  object \n",
      " 2   ProductName  object \n",
      " 3   Quantity     int64  \n",
      " 4   TotalSales   float64\n",
      "dtypes: float64(1), int64(1), object(3)\n",
      "memory usage: 97.8+ MB\n"
     ]
    }
   ],
   "source": [
    "sales.info()"
   ]
  },
  {
   "cell_type": "code",
   "execution_count": 73,
   "metadata": {},
   "outputs": [
    {
     "data": {
      "text/html": [
       "<div>\n",
       "<style scoped>\n",
       "    .dataframe tbody tr th:only-of-type {\n",
       "        vertical-align: middle;\n",
       "    }\n",
       "\n",
       "    .dataframe tbody tr th {\n",
       "        vertical-align: top;\n",
       "    }\n",
       "\n",
       "    .dataframe thead th {\n",
       "        text-align: right;\n",
       "    }\n",
       "</style>\n",
       "<table border=\"1\" class=\"dataframe\">\n",
       "  <thead>\n",
       "    <tr style=\"text-align: right;\">\n",
       "      <th></th>\n",
       "      <th>Quantity</th>\n",
       "      <th>TotalSales</th>\n",
       "    </tr>\n",
       "  </thead>\n",
       "  <tbody>\n",
       "    <tr>\n",
       "      <th>count</th>\n",
       "      <td>2.564361e+06</td>\n",
       "      <td>2.564361e+06</td>\n",
       "    </tr>\n",
       "    <tr>\n",
       "      <th>mean</th>\n",
       "      <td>2.519319e+00</td>\n",
       "      <td>1.110370e+02</td>\n",
       "    </tr>\n",
       "    <tr>\n",
       "      <th>std</th>\n",
       "      <td>2.829032e+00</td>\n",
       "      <td>1.736604e+02</td>\n",
       "    </tr>\n",
       "    <tr>\n",
       "      <th>min</th>\n",
       "      <td>1.000000e+00</td>\n",
       "      <td>-3.234000e+03</td>\n",
       "    </tr>\n",
       "    <tr>\n",
       "      <th>25%</th>\n",
       "      <td>1.000000e+00</td>\n",
       "      <td>4.500000e+01</td>\n",
       "    </tr>\n",
       "    <tr>\n",
       "      <th>50%</th>\n",
       "      <td>2.000000e+00</td>\n",
       "      <td>8.000000e+01</td>\n",
       "    </tr>\n",
       "    <tr>\n",
       "      <th>75%</th>\n",
       "      <td>3.000000e+00</td>\n",
       "      <td>1.440000e+02</td>\n",
       "    </tr>\n",
       "    <tr>\n",
       "      <th>max</th>\n",
       "      <td>8.500000e+01</td>\n",
       "      <td>1.290000e+04</td>\n",
       "    </tr>\n",
       "  </tbody>\n",
       "</table>\n",
       "</div>"
      ],
      "text/plain": [
       "           Quantity    TotalSales\n",
       "count  2.564361e+06  2.564361e+06\n",
       "mean   2.519319e+00  1.110370e+02\n",
       "std    2.829032e+00  1.736604e+02\n",
       "min    1.000000e+00 -3.234000e+03\n",
       "25%    1.000000e+00  4.500000e+01\n",
       "50%    2.000000e+00  8.000000e+01\n",
       "75%    3.000000e+00  1.440000e+02\n",
       "max    8.500000e+01  1.290000e+04"
      ]
     },
     "execution_count": 73,
     "metadata": {},
     "output_type": "execute_result"
    }
   ],
   "source": [
    "sales.describe()"
   ]
  },
  {
   "cell_type": "code",
   "execution_count": 74,
   "metadata": {},
   "outputs": [
    {
     "data": {
      "text/plain": [
       "Flight_ID\n",
       "09a295c868301fe15df13d8411cd4d37    73\n",
       "4c65ba84403c407f59258b9ad414e40d    73\n",
       "a44008629d97a1b4c9b6e0980ae8b11a    73\n",
       "edbdab3c1c0df3d2b2213343fb9144eb    73\n",
       "b6a39758032c87d2e315889e36b97277    72\n",
       "14069ac4ad5e26456a8f103484b84774    71\n",
       "ab6dc691f1869a7c60dfd306ea408cdf    71\n",
       "fd0e971f1c0af6e01be0cec64326d09b    70\n",
       "c09524fd81d49de6643b61b31bae4864    69\n",
       "722a5e63351b62bc5e95488f77f1c84e    69\n",
       "Name: count, dtype: int64"
      ]
     },
     "execution_count": 74,
     "metadata": {},
     "output_type": "execute_result"
    }
   ],
   "source": [
    "sales[\"Flight_ID\"].value_counts().head(10)"
   ]
  },
  {
   "cell_type": "code",
   "execution_count": 75,
   "metadata": {},
   "outputs": [],
   "source": [
    "sales.dropna(inplace=True)"
   ]
  },
  {
   "cell_type": "code",
   "execution_count": 76,
   "metadata": {},
   "outputs": [
    {
     "data": {
      "text/plain": [
       "ProductType\n",
       "Botanas                 613793\n",
       "Refrescos               585118\n",
       "Specials                395760\n",
       "Licores                 304987\n",
       "Perecederos             181990\n",
       "Galletas                143928\n",
       "Bebidas Calientes       125235\n",
       "Sopas                   115486\n",
       "OFERTAS                  38384\n",
       "Lacteos                  37755\n",
       "Vivabus                   9819\n",
       "Transportaciones CUN      3635\n",
       "Hertz.                    2398\n",
       "COMBOS CREW               2017\n",
       "VIVA Taxis                1384\n",
       "Transportaciones MTY      1220\n",
       "VivaTransfer               435\n",
       "Antros                     388\n",
       "VIVA PLAY                  386\n",
       "Transportaciones TLC       239\n",
       "Alimentos Charter            4\n",
       "Name: count, dtype: int64"
      ]
     },
     "execution_count": 76,
     "metadata": {},
     "output_type": "execute_result"
    }
   ],
   "source": [
    "sales[\"ProductType\"].value_counts()"
   ]
  },
  {
   "cell_type": "code",
   "execution_count": 77,
   "metadata": {},
   "outputs": [
    {
     "data": {
      "text/plain": [
       "ProductType\n",
       "Botanas              613793\n",
       "Refrescos            585118\n",
       "Licores              304987\n",
       "Perecederos          181990\n",
       "Galletas             143928\n",
       "Bebidas Calientes    125235\n",
       "Sopas                115486\n",
       "Lacteos               37755\n",
       "Name: count, dtype: int64"
      ]
     },
     "execution_count": 77,
     "metadata": {},
     "output_type": "execute_result"
    }
   ],
   "source": [
    "excluded_types = [\n",
    "    \"Specials\",\n",
    "    \"OFERTAS \",\n",
    "    \"Vivabus\",\n",
    "    \"Transportaciones CUN\",\n",
    "    \"Hertz.\",\n",
    "    \"COMBOS CREW\",\n",
    "    \"VIVA Taxis\",\n",
    "    \"Transportaciones MTY\",\n",
    "    \"VivaTransfer\",\n",
    "    \"Antros\",\n",
    "    \"VIVA PLAY\",\n",
    "    \"Transportaciones TLC\",\n",
    "    \"Alimentos Charter\",\n",
    "]\n",
    "\n",
    "sales = sales[~sales.ProductType.isin(excluded_types)]\n",
    "sales[\"ProductType\"].value_counts()"
   ]
  },
  {
   "cell_type": "code",
   "execution_count": 78,
   "metadata": {},
   "outputs": [
    {
     "name": "stdout",
     "output_type": "stream",
     "text": [
      "<class 'pandas.core.frame.DataFrame'>\n",
      "Index: 2108292 entries, 0 to 2564360\n",
      "Data columns (total 5 columns):\n",
      " #   Column       Dtype  \n",
      "---  ------       -----  \n",
      " 0   Flight_ID    object \n",
      " 1   ProductType  object \n",
      " 2   ProductName  object \n",
      " 3   Quantity     int64  \n",
      " 4   TotalSales   float64\n",
      "dtypes: float64(1), int64(1), object(3)\n",
      "memory usage: 96.5+ MB\n"
     ]
    }
   ],
   "source": [
    "sales.info()"
   ]
  },
  {
   "cell_type": "code",
   "execution_count": 79,
   "metadata": {},
   "outputs": [],
   "source": [
    "sales = sales[sales.TotalSales > 0]"
   ]
  },
  {
   "cell_type": "code",
   "execution_count": 80,
   "metadata": {},
   "outputs": [],
   "source": [
    "sales.drop(columns=[\"TotalSales\"], inplace=True)"
   ]
  },
  {
   "cell_type": "code",
   "execution_count": 81,
   "metadata": {},
   "outputs": [
    {
     "name": "stdout",
     "output_type": "stream",
     "text": [
      "<class 'pandas.core.frame.DataFrame'>\n",
      "Index: 2107861 entries, 0 to 2564360\n",
      "Data columns (total 4 columns):\n",
      " #   Column       Dtype \n",
      "---  ------       ----- \n",
      " 0   Flight_ID    object\n",
      " 1   ProductType  object\n",
      " 2   ProductName  object\n",
      " 3   Quantity     int64 \n",
      "dtypes: int64(1), object(3)\n",
      "memory usage: 80.4+ MB\n"
     ]
    }
   ],
   "source": [
    "sales.info()"
   ]
  },
  {
   "cell_type": "code",
   "execution_count": 83,
   "metadata": {},
   "outputs": [],
   "source": [
    "sales.reset_index(inplace=True)"
   ]
  },
  {
   "cell_type": "code",
   "execution_count": null,
   "metadata": {},
   "outputs": [],
   "source": [
    "# Grafica de sales\n",
    "plt.figure(figsize=(10, 6))\n",
    "sns.histplot(sales[\"ProductType\"])\n",
    "plt.xticks(rotation=90)\n",
    "plt.show()"
   ]
  },
  {
   "cell_type": "code",
   "execution_count": 84,
   "metadata": {},
   "outputs": [
    {
     "name": "stderr",
     "output_type": "stream",
     "text": [
      "c:\\Users\\Franco Mendoza\\AppData\\Local\\Programs\\Python\\Python311\\Lib\\site-packages\\pyarrow\\pandas_compat.py:373: FutureWarning: is_sparse is deprecated and will be removed in a future version. Check `isinstance(dtype, pd.SparseDtype)` instead.\n",
      "  if _pandas_api.is_sparse(col):\n"
     ]
    }
   ],
   "source": [
    "# Usar nuevos datos de sales\n",
    "sales.to_parquet(\"../resources/sales_cleaned.parquet\")"
   ]
  }
 ],
 "metadata": {
  "kernelspec": {
   "display_name": "Python 3",
   "language": "python",
   "name": "python3"
  },
  "language_info": {
   "codemirror_mode": {
    "name": "ipython",
    "version": 3
   },
   "file_extension": ".py",
   "mimetype": "text/x-python",
   "name": "python",
   "nbconvert_exporter": "python",
   "pygments_lexer": "ipython3",
   "version": "3.11.0"
  }
 },
 "nbformat": 4,
 "nbformat_minor": 2
}
